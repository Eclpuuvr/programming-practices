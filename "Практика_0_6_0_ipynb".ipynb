{
  "cells": [
    {
      "cell_type": "markdown",
      "metadata": {
        "id": "tKNG_RzWxG6g"
      },
      "source": [
        "\n",
        "\n",
        "---\n",
        "\n"
      ]
    },
    {
      "cell_type": "markdown",
      "metadata": {
        "id": "cFcrKfclKWh0"
      },
      "source": [
        "# **Дисклеймер**\n",
        "\n",
        "В данной практике будет введен дополнительный критерий: чистота и читаемость кода, а также соблюдение правил описанных в начале практики"
      ]
    },
    {
      "cell_type": "markdown",
      "metadata": {
        "id": "0SnE87X1xDlV"
      },
      "source": [
        "\n",
        "\n",
        "---\n",
        "\n"
      ]
    },
    {
      "cell_type": "markdown",
      "metadata": {
        "id": "VxawR9NubT_F"
      },
      "source": [
        "# Задание 1\n",
        "\n",
        "**Задача:**\n",
        "\n",
        "Напишите функцию очищающий список от дубликтов\n",
        "\n",
        "\n",
        "*Запрещено:*\n",
        "\n",
        "*   Использовать set() или готовые функции очищающие список от дубликатов\n",
        "\n",
        "Вввод:\n",
        "\n",
        "```\n",
        "apple banana apple 1 3 4 4 5\n",
        "```\n",
        "\n",
        "\n",
        "Вывод:\n",
        "\n",
        "```\n",
        "apple banana 1 3 4 5\n",
        "```\n",
        "\n"
      ]
    },
    {
      "cell_type": "code",
      "execution_count": null,
      "metadata": {
        "colab": {
          "base_uri": "https://localhost:8080/"
        },
        "id": "ml5gnbPXbeju",
        "outputId": "ab753810-8ac0-43ef-8124-67b4375a2699"
      },
      "outputs": [
        {
          "name": "stdout",
          "output_type": "stream",
          "text": [
            "apple banana apple 1 3 4 4 5\n",
            "apple banana 1 3 4 5\n"
          ]
        }
      ],
      "source": [
        "listt=input()\n",
        "listt=listt.split()\n",
        "res=[]\n",
        "for x in lis:\n",
        "    if x not in res:\n",
        "        res.append(x)\n",
        "print(' '.join(res))"
      ]
    },
    {
      "cell_type": "markdown",
      "metadata": {
        "id": "y05x0eD0cVCC"
      },
      "source": [
        "# Задание 2\n",
        "\n",
        "**Задача:**\n",
        "\n",
        "Написать функцию для нахождения простых чисел в диапазоне\n",
        "\n",
        "Ввод:\n",
        "\n",
        "```\n",
        "10, 50\n",
        "```\n",
        "\n",
        "Вывод:\n",
        "\n",
        "```\n",
        "11, 13, 17, 19, 23, 29, 31, 37, 41, 43, 47\n",
        "```"
      ]
    },
    {
      "cell_type": "code",
      "execution_count": null,
      "metadata": {
        "colab": {
          "base_uri": "https://localhost:8080/"
        },
        "id": "XSMJnLgrc6Bf",
        "outputId": "08ce5abe-714b-43c4-8b67-d6879ad60925"
      },
      "outputs": [
        {
          "name": "stdout",
          "output_type": "stream",
          "text": [
            "10, 50\n",
            "11, 13, 17, 19, 23, 29, 31, 37, 41, 43, 47\n"
          ]
        }
      ],
      "source": [
        "def simple(a):\n",
        "    divider = []\n",
        "    for x in range(2,int(a)//2+1):\n",
        "        if a%x==0:\n",
        "            divider.append(x)\n",
        "    if len(divider)>=1:\n",
        "        return 0\n",
        "    else:\n",
        "        return 1\n",
        "\n",
        "\n",
        "numbers=input()\n",
        "numbers=numbers.split(', ')\n",
        "res=[]\n",
        "for variable in range(int(numbera[0]),int(numbers[1])+1):\n",
        "    if simple(variable)==1:\n",
        "        res.append(str(variable))\n",
        "print(', '.join(res))"
      ]
    },
    {
      "cell_type": "markdown",
      "metadata": {
        "id": "vYM0LyxxdElN"
      },
      "source": [
        "# Задание 3\n",
        "\n",
        "Напишите функцию для объединения двух списков (список ключей и список значении) в словарь\n",
        "\n",
        "*Запрещено:*\n",
        "\n",
        "*   Использования готовых функции для объединения списков (пример: zip() )\n",
        "\n",
        "Дано:\n",
        "\n",
        "```\n",
        "keys = ['a', 'b', 'c', 'e' ]\n",
        "values = [1, 2, 3, 4]\n",
        "```\n",
        "\n",
        "Вывод:\n",
        "```\n",
        "{'a': 1, 'b': 2, 'c': 3, 'e': 4}\n",
        "```\n",
        "\n",
        "\n"
      ]
    },
    {
      "cell_type": "code",
      "execution_count": null,
      "metadata": {
        "colab": {
          "base_uri": "https://localhost:8080/"
        },
        "id": "CRvhHTjCdvjS",
        "outputId": "f7b7490a-78ab-4782-e134-b68911c606e7"
      },
      "outputs": [
        {
          "name": "stdout",
          "output_type": "stream",
          "text": [
            "{'a': 1, 'b': 2, 'c': 3, 'e': 4}\n"
          ]
        }
      ],
      "source": [
        "def dictionary(keys,values):\n",
        "    res={}\n",
        "    nom=-1\n",
        "    for key in keys:\n",
        "        nom+=1\n",
        "        res[key]=values[nom]\n",
        "    return res\n",
        "\n",
        "\n",
        "keys = ['a', 'b', 'c', 'e' ]\n",
        "values = [1, 2, 3, 4]\n",
        "\n",
        "print(dic(keys,values))"
      ]
    },
    {
      "cell_type": "markdown",
      "metadata": {
        "id": "L_w8H8i-fQcP"
      },
      "source": [
        "# Задание 4\n",
        "\n",
        "Напишите функцию(ии) для подсчета статистических параметров:\n",
        "*   Сумму\n",
        "*   Среднее арифметическое\n",
        "*   Медиану\n",
        "*   Моду\n",
        "\n",
        "\n",
        "*Запрещено:*\n",
        "\n",
        "*   sum()\n",
        "*   sorted()\n",
        "*   и других функции предоставляющих готовое решение задания\n",
        "\n",
        "Дано:\n",
        "\n",
        "```\n",
        "numbers = [1, 2, 2, 3, 4, 5, 6, 7, 8 ,9 ,10]\n",
        "\n",
        "```\n",
        "\n",
        "Вывод:\n",
        "```\n",
        "{'mean': 5.181818181818182, 'median': 5, 'mode': 2, 'sum': 57}\n",
        "```\n"
      ]
    },
    {
      "cell_type": "code",
      "execution_count": null,
      "metadata": {
        "colab": {
          "base_uri": "https://localhost:8080/"
        },
        "id": "dW6jW_rjfuba",
        "outputId": "6fdabbb2-13c1-471d-8712-8c87cb70e63e"
      },
      "outputs": [
        {
          "name": "stdout",
          "output_type": "stream",
          "text": [
            "{'mean': 5.181818181818182, 'median': 5, 'mode': '2', 'sum': 57}\n"
          ]
        }
      ],
      "source": [
        "def statistics(numbers):\n",
        "    res={}\n",
        "    r={}\n",
        "    summ = 0\n",
        "    coun = 0\n",
        "    mmmaxcoun=0\n",
        "    mode=''\n",
        "\n",
        "    for x in numbers:\n",
        "        if x not in r:\n",
        "            r[x]=1\n",
        "        else:\n",
        "            r[x]+=1\n",
        "        summ += int(x)\n",
        "        coun += 1\n",
        "\n",
        "    for z in r.keys():\n",
        "        if r[z]>mmmaxcoun:\n",
        "            mmmaxcoun=r[z]\n",
        "            mode=str(z)\n",
        "\n",
        "    mean = summ / coun\n",
        "    median=int(numbers[coun//2])\n",
        "\n",
        "    res['mean']=mean\n",
        "    res['median']=median\n",
        "    res['mode']=mode\n",
        "    res['sum']=summ\n",
        "    return res\n",
        "\n",
        "\n",
        "numbers = [1, 2, 2, 3, 4, 5, 6, 7, 8 ,9 ,10]\n",
        "print(statistics(numbers))\n",
        "\n",
        "\n",
        "\n",
        "\n"
      ]
    },
    {
      "cell_type": "markdown",
      "metadata": {
        "id": "hZW0NZ7SgTcp"
      },
      "source": [
        "# Задание 5\n",
        "\n",
        "На ввод поступает строка символов. Строка состоит из слов, которые отделены друг от друга пробелами. Необходимо вывести самое длинное слово и его порядковый номер.\n",
        "\n",
        "*Запрещено:*\n",
        "\n",
        "*   len()\n",
        "\n",
        "Дано:\n",
        "\n",
        "```\n",
        "Страдание и боль всегда обязательны для широкого сознания и глубокого сердца.\n",
        "\n",
        "```\n",
        "\n",
        "Вывод:\n",
        "```\n",
        "Самое длинное слово с номером 5: обязательны\n",
        "```"
      ]
    },
    {
      "cell_type": "code",
      "execution_count": null,
      "metadata": {
        "id": "VO5LWNLmS4am"
      },
      "outputs": [],
      "source": []
    },
    {
      "cell_type": "code",
      "execution_count": null,
      "metadata": {
        "colab": {
          "base_uri": "https://localhost:8080/"
        },
        "id": "rC5DpHHLsDYp",
        "outputId": "ba366c6c-0d06-4c52-8ce7-1b3085fdb107"
      },
      "outputs": [
        {
          "name": "stdout",
          "output_type": "stream",
          "text": [
            "Самое длинное слово с номером 5 : обязательны\n"
          ]
        }
      ],
      "source": [
        "line='Страдание и боль всегда обязательны для широкого сознания и глубокого сердца'\n",
        "line=st.split()\n",
        "nom=0\n",
        "nommax=0\n",
        "maxl=0\n",
        "\n",
        "for word in line:\n",
        "    nom+=1\n",
        "    l=0\n",
        "    for b in word:\n",
        "        l+=1\n",
        "    if l>maxl:\n",
        "        maxl=l\n",
        "        nommax=nom\n",
        "\n",
        "print('Самое длинное слово с номером', nommax,':', line[nommax-1])\n",
        "\n"
      ]
    },
    {
      "cell_type": "markdown",
      "metadata": {
        "id": "k5BzJW5ZeaQN"
      },
      "source": [
        "# Задание 6\n",
        "\n",
        "Напишите программу, для управления оценками студентов, со следующими функциями:\n",
        "\n",
        "* Добавление информации о студенте и его оценках.\n",
        "* Подсчет среднего балла студента.\n",
        "* Получение списка всех студентов с их средними баллами.\n",
        "* Поиск студента по имени и вывод его оценок и среднего балла.\n",
        "\n",
        "\n",
        "\n"
      ]
    },
    {
      "cell_type": "code",
      "execution_count": null,
      "metadata": {
        "colab": {
          "base_uri": "https://localhost:8080/",
          "height": 391
        },
        "id": "cvhlltVbdyoL",
        "outputId": "a6bae7d4-8995-4470-ef07-5c063c368504"
      },
      "outputs": [
        {
          "name": "stdout",
          "output_type": "stream",
          "text": [
            "(1. Новый студент 2. Средний балл \n",
            "3. Список студентов и средние баллы 4. Оценки и средний балл студента)\n"
          ]
        },
        {
          "ename": "KeyboardInterrupt",
          "evalue": "Interrupted by user",
          "output_type": "error",
          "traceback": [
            "\u001b[0;31m---------------------------------------------------------------------------\u001b[0m",
            "\u001b[0;31mKeyboardInterrupt\u001b[0m                         Traceback (most recent call last)",
            "\u001b[0;32m<ipython-input-8-70f3368b5e1f>\u001b[0m in \u001b[0;36m<cell line: 32>\u001b[0;34m()\u001b[0m\n\u001b[1;32m     33\u001b[0m     \u001b[0mprint\u001b[0m\u001b[0;34m(\u001b[0m\u001b[0;34m'(1. Новый студент 2. Средний балл '\u001b[0m\u001b[0;34m)\u001b[0m\u001b[0;34m\u001b[0m\u001b[0;34m\u001b[0m\u001b[0m\n\u001b[1;32m     34\u001b[0m     \u001b[0mprint\u001b[0m\u001b[0;34m(\u001b[0m\u001b[0;34m'3. Список студентов и средние баллы 4. Оценки и средний балл студента)'\u001b[0m\u001b[0;34m)\u001b[0m\u001b[0;34m\u001b[0m\u001b[0;34m\u001b[0m\u001b[0m\n\u001b[0;32m---> 35\u001b[0;31m     \u001b[0mq\u001b[0m\u001b[0;34m=\u001b[0m\u001b[0minput\u001b[0m\u001b[0;34m(\u001b[0m\u001b[0;34m'Выберите подходящую функцию:'\u001b[0m\u001b[0;34m)\u001b[0m\u001b[0;34m\u001b[0m\u001b[0;34m\u001b[0m\u001b[0m\n\u001b[0m\u001b[1;32m     36\u001b[0m \u001b[0;34m\u001b[0m\u001b[0m\n\u001b[1;32m     37\u001b[0m     \u001b[0;32mif\u001b[0m \u001b[0mq\u001b[0m\u001b[0;34m==\u001b[0m\u001b[0;34m'1'\u001b[0m\u001b[0;34m:\u001b[0m\u001b[0;34m\u001b[0m\u001b[0;34m\u001b[0m\u001b[0m\n",
            "\u001b[0;32m/usr/local/lib/python3.10/dist-packages/ipykernel/kernelbase.py\u001b[0m in \u001b[0;36mraw_input\u001b[0;34m(self, prompt)\u001b[0m\n\u001b[1;32m    849\u001b[0m                 \u001b[0;34m\"raw_input was called, but this frontend does not support input requests.\"\u001b[0m\u001b[0;34m\u001b[0m\u001b[0;34m\u001b[0m\u001b[0m\n\u001b[1;32m    850\u001b[0m             )\n\u001b[0;32m--> 851\u001b[0;31m         return self._input_request(str(prompt),\n\u001b[0m\u001b[1;32m    852\u001b[0m             \u001b[0mself\u001b[0m\u001b[0;34m.\u001b[0m\u001b[0m_parent_ident\u001b[0m\u001b[0;34m,\u001b[0m\u001b[0;34m\u001b[0m\u001b[0;34m\u001b[0m\u001b[0m\n\u001b[1;32m    853\u001b[0m             \u001b[0mself\u001b[0m\u001b[0;34m.\u001b[0m\u001b[0m_parent_header\u001b[0m\u001b[0;34m,\u001b[0m\u001b[0;34m\u001b[0m\u001b[0;34m\u001b[0m\u001b[0m\n",
            "\u001b[0;32m/usr/local/lib/python3.10/dist-packages/ipykernel/kernelbase.py\u001b[0m in \u001b[0;36m_input_request\u001b[0;34m(self, prompt, ident, parent, password)\u001b[0m\n\u001b[1;32m    893\u001b[0m             \u001b[0;32mexcept\u001b[0m \u001b[0mKeyboardInterrupt\u001b[0m\u001b[0;34m:\u001b[0m\u001b[0;34m\u001b[0m\u001b[0;34m\u001b[0m\u001b[0m\n\u001b[1;32m    894\u001b[0m                 \u001b[0;31m# re-raise KeyboardInterrupt, to truncate traceback\u001b[0m\u001b[0;34m\u001b[0m\u001b[0;34m\u001b[0m\u001b[0m\n\u001b[0;32m--> 895\u001b[0;31m                 \u001b[0;32mraise\u001b[0m \u001b[0mKeyboardInterrupt\u001b[0m\u001b[0;34m(\u001b[0m\u001b[0;34m\"Interrupted by user\"\u001b[0m\u001b[0;34m)\u001b[0m \u001b[0;32mfrom\u001b[0m \u001b[0;32mNone\u001b[0m\u001b[0;34m\u001b[0m\u001b[0;34m\u001b[0m\u001b[0m\n\u001b[0m\u001b[1;32m    896\u001b[0m             \u001b[0;32mexcept\u001b[0m \u001b[0mException\u001b[0m \u001b[0;32mas\u001b[0m \u001b[0me\u001b[0m\u001b[0;34m:\u001b[0m\u001b[0;34m\u001b[0m\u001b[0;34m\u001b[0m\u001b[0m\n\u001b[1;32m    897\u001b[0m                 \u001b[0mself\u001b[0m\u001b[0;34m.\u001b[0m\u001b[0mlog\u001b[0m\u001b[0;34m.\u001b[0m\u001b[0mwarning\u001b[0m\u001b[0;34m(\u001b[0m\u001b[0;34m\"Invalid Message:\"\u001b[0m\u001b[0;34m,\u001b[0m \u001b[0mexc_info\u001b[0m\u001b[0;34m=\u001b[0m\u001b[0;32mTrue\u001b[0m\u001b[0;34m)\u001b[0m\u001b[0;34m\u001b[0m\u001b[0;34m\u001b[0m\u001b[0m\n",
            "\u001b[0;31mKeyboardInterrupt\u001b[0m: Interrupted by user"
          ]
        }
      ],
      "source": [
        "def newinf(students, name, point):\n",
        "    if name not in students:\n",
        "        students[str(name)]=[point,[]]\n",
        "    else:\n",
        "        students[name][0].append(point)\n",
        "    summm=0\n",
        "    lennn=0\n",
        "    for x in students[name][0]:\n",
        "        summm+=int(x)\n",
        "        lennn+=1\n",
        "    students[name][1]=summm/lennn\n",
        "    return ' '.join(students[name][0])\n",
        "\n",
        "\n",
        "def mean(students, name):\n",
        "    return students[name][1]\n",
        "\n",
        "\n",
        "def allstud(students):\n",
        "    all={}\n",
        "    for x in students.keys():\n",
        "        all[x]=students[x][1]\n",
        "    return all\n",
        "\n",
        "\n",
        "def nam(students, name):\n",
        "    return students[name]\n",
        "\n",
        "\n",
        "students={}\n",
        "i='0'\n",
        "while i!='':\n",
        "    print('(1. Новый студент 2. Средний балл ')\n",
        "    print('3. Список студентов и средние баллы 4. Оценки и средний балл студента)')\n",
        "    q=input('Выберите подходящую функцию:')\n",
        "\n",
        "    if q=='1':\n",
        "        name=input('Введите имя студента:')\n",
        "        point=input('Введите оценки через пробел:').split()\n",
        "        poin=[]\n",
        "        print('Студент:', name, 'Оценки:', newinf(students,name,point))\n",
        "\n",
        "    elif q=='2':\n",
        "      name=input('Введите имя студента:')\n",
        "      print('Средний балл студента', name, mean(students,name))\n",
        "\n",
        "    elif q=='3':\n",
        "        studmean=allstud(students)\n",
        "        n=0\n",
        "        for x in studmean.keys():\n",
        "            n+=1\n",
        "            print(n,'.', x, 'Средний балл:', studmean[x])\n",
        "\n",
        "    elif q=='4':\n",
        "      name=input('Введите имя студента:')\n",
        "      print('Оценки и средний балл студента', name, ':', nam(students,name))\n",
        "\n",
        "    else:\n",
        "      i=q\n",
        "\n",
        "print('Доброго дня!')\n",
        "\n",
        "\n"
      ]
    },
    {
      "cell_type": "markdown",
      "metadata": {
        "id": "iQ8Z-7PYgu1_"
      },
      "source": [
        "# Задание 7\n",
        "\n",
        "\n",
        "**Задача:**\n",
        "\n",
        "Создайте приложение-викторину с командной строкой, которое задает пользователям вопросы по различным темам и отслеживает их результаты.\n",
        "\n",
        "Ключевые особенности:\n",
        "\n",
        "*   Хранение данных о вопросах и ответах на них, а также баллов за каждый вопрос\n",
        "*   Реализуйте функцию для представления вопросов, принятия ответов пользователей и предоставления обратной связи о том, являются ли ответы правильными или неправильными.\n",
        "*  После завершения викторины отобразите общий балл пользователя из числа ответов на вопросы.\n",
        "*  Реализуйте функцию добавления нового вопроса\n",
        "*  Реализуйте функцию перемешивания вопросов, для отображения случайного вопроса\n"
      ]
    },
    {
      "cell_type": "code",
      "execution_count": null,
      "metadata": {
        "colab": {
          "background_save": true,
          "base_uri": "https://localhost:8080/"
        },
        "id": "DhxyYwHwh2V4",
        "outputId": "40302a3a-0ecb-4e6f-b5ce-d12b952eebc7"
      },
      "outputs": [
        {
          "name": "stdout",
          "output_type": "stream",
          "text": [
            "Викторина\n",
            "Правила: викторина состоит из 4 вопросов по 1 очку, на каждый нужно вводить ответ в указанное поле с маленькой буквы! \n",
            "Также можно добавить в викторину свои вопросы и ответы к ним(введите в поле cлово \"добавить\"), \n",
            "или вывести случайный вопрос (введите в поле слово\"случайный\")\n"
          ]
        }
      ],
      "source": [
        "import random\n",
        "\n",
        "\n",
        "def newquestion(question):\n",
        "    newq=input('Введите свой вопрос:')\n",
        "    newans=input('Введите ответ с маленькой буквы')\n",
        "    question[newq]=newans\n",
        "    print('Вопрос успешно добавлен в викторину!')\n",
        "    print('Вопросов в викторине -', len(question))\n",
        "\n",
        "\n",
        "def randomquestion(question):\n",
        "    nom=random.randint(1,len(question))\n",
        "    n=0\n",
        "    for q in question.keys():\n",
        "        n+=1\n",
        "        if n==nom:\n",
        "          print('Вопрос:')\n",
        "          answer=input(q)\n",
        "          if answer==question[q]:\n",
        "              print('Ответ верный!')\n",
        "          else:\n",
        "              print('Ответ неверный!')\n",
        "\n",
        "\n",
        "\n",
        "def quiz(question):\n",
        "    num=0\n",
        "    points=0\n",
        "    while num<len(question):\n",
        "        n=-1\n",
        "        for quest in question.keys():\n",
        "            n+=1\n",
        "            if num==n:\n",
        "                print(quest)\n",
        "                answer=input()\n",
        "                num+=1\n",
        "                if answer==question[quest]:\n",
        "                    print('Верный ответ!')\n",
        "                    points+=1\n",
        "                    print('Текущий счёт:', points,'/', len(question))\n",
        "                else:\n",
        "                    print('Ответ неверный!')\n",
        "                    print('Текущий счёт:', points,'/',len(question))\n",
        "    print('Викторина завершена!')\n",
        "    if points==num:\n",
        "        print('ВЫ ПОБЕДИТЕЛЬ!')\n",
        "\n",
        "\n",
        "\n",
        "question={'Какой орган в человеческом теле самый большой?':'кожа', \\\n",
        "          'Как называется дом, сделанный полностью изо льда?':'иглу', \\\n",
        "          'Сколько игроков в команде по водному поло?(ответ-число)': '7',\\\n",
        "          'Какой национальности был художник Анри Матисс?':'француз'}\n",
        "print('Викторина')\n",
        "print('Правила: викторина состоит из', len(question),'вопросов по 1 очку,',\\\n",
        "      'на каждый','нужно вводить ответ в указанное поле с маленькой буквы!', \"\\n\"\n",
        "      'Также можно добавить в викторину свои вопросы и ответы к ним(введите в',\\\n",
        "      'поле cлово \"добавить\"),',\"\\n\" 'или вывести случайный вопрос',\\\n",
        "       '(введите в поле слово\"случайный\")')\n",
        "\n",
        "i=0\n",
        "while i!='конец':\n",
        "  start=input('Если готовы, введите \"начать\", если хотите завершить - \"конец\"')\n",
        "\n",
        "  if 'начать' in start:\n",
        "      i=start\n",
        "      quiz(question)\n",
        "  elif 'добавить' in start:\n",
        "      i=start\n",
        "      newquestion(question)\n",
        "  elif 'случайный' in start:\n",
        "      i=start\n",
        "      randomquestion(question)\n",
        "  elif 'конец' in start:\n",
        "      i=start\n",
        "      print('Хорошего дня!')\n",
        "  else:\n",
        "      i=start\n",
        "      print('Такой функции нет!')\n",
        "\n",
        "\n",
        "\n",
        "\n"
      ]
    }
  ],
  "metadata": {
    "colab": {
      "provenance": []
    },
    "kernelspec": {
      "display_name": "Python 3",
      "name": "python3"
    },
    "language_info": {
      "name": "python"
    }
  },
  "nbformat": 4,
  "nbformat_minor": 0
}