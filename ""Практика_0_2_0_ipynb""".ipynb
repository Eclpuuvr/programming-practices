{
  "nbformat": 4,
  "nbformat_minor": 0,
  "metadata": {
    "colab": {
      "provenance": []
    },
    "kernelspec": {
      "name": "python3",
      "display_name": "Python 3"
    },
    "language_info": {
      "name": "python"
    }
  },
  "cells": [
    {
      "cell_type": "markdown",
      "source": [
        "Напишите свое ФИО:"
      ],
      "metadata": {
        "id": "0PnTh-ajEoEb"
      }
    },
    {
      "cell_type": "code",
      "source": [
        "print('Кириловских Валерия Вадимовна')"
      ],
      "metadata": {
        "id": "QyMVPjzWErHw",
        "colab": {
          "base_uri": "https://localhost:8080/"
        },
        "outputId": "652fb08c-2983-45ef-f858-245b1b3a770a"
      },
      "execution_count": null,
      "outputs": [
        {
          "output_type": "stream",
          "name": "stdout",
          "text": [
            "Кириловских Валерия Вадимовна\n"
          ]
        }
      ]
    },
    {
      "cell_type": "markdown",
      "source": [
        "# Основы"
      ],
      "metadata": {
        "id": "HPwKiIA4EKO-"
      }
    },
    {
      "cell_type": "markdown",
      "source": [
        "Задание 1: Напиши программу, выводящую на экран сообщение \"Привет, мир!\""
      ],
      "metadata": {
        "id": "8po5IidFERZ8"
      }
    },
    {
      "cell_type": "code",
      "execution_count": null,
      "metadata": {
        "id": "sBRjlCVLEIQr",
        "colab": {
          "base_uri": "https://localhost:8080/"
        },
        "outputId": "1be67c2a-10f3-4f02-db1b-dc009cb3e5bd"
      },
      "outputs": [
        {
          "output_type": "stream",
          "name": "stdout",
          "text": [
            "Привет, мир!\n"
          ]
        }
      ],
      "source": [
        "print('Привет, мир!')"
      ]
    },
    {
      "cell_type": "markdown",
      "source": [
        "Задание 2: Напиши программу которая запрашивает имя пользователя и выводит сообщение:\n",
        "\n",
        "`Привет, <Имя пользователя>`"
      ],
      "metadata": {
        "id": "pUQIIo94EYLg"
      }
    },
    {
      "cell_type": "code",
      "source": [
        "name=input()\n",
        "print('Привет,', name)"
      ],
      "metadata": {
        "id": "nNwHKmAnEinH",
        "colab": {
          "base_uri": "https://localhost:8080/"
        },
        "outputId": "e9626676-3f24-4e8e-8351-0c0e083b5c33"
      },
      "execution_count": null,
      "outputs": [
        {
          "output_type": "stream",
          "name": "stdout",
          "text": [
            "s\n",
            "Привет, s\n"
          ]
        }
      ]
    },
    {
      "cell_type": "markdown",
      "source": [
        "Задание 3: Напиши программу определяющую является ли число четным или нечетным:\n",
        "\n",
        "Пример:\n",
        "\n",
        "`Введите число:` 2\n",
        "\n",
        "`Ваше число четное!`"
      ],
      "metadata": {
        "id": "SAUm9W6_Etkh"
      }
    },
    {
      "cell_type": "code",
      "source": [
        "print('Введите ваше число:')\n",
        "a=int(input())\n",
        "if a%2==0:\n",
        "  print('Ваше число четное!')\n",
        "else:\n",
        "  print('Ваше число нечетное!')\n"
      ],
      "metadata": {
        "id": "LXv7AIN1E4on",
        "colab": {
          "base_uri": "https://localhost:8080/"
        },
        "outputId": "9fe037cb-d9f4-477f-daed-c4287f62e2ba"
      },
      "execution_count": null,
      "outputs": [
        {
          "output_type": "stream",
          "name": "stdout",
          "text": [
            "Введите ваше число:\n",
            "2\n",
            "Ваше число четное!\n"
          ]
        }
      ]
    },
    {
      "cell_type": "markdown",
      "source": [
        "Задание 4: Напишите программу которая запрашивает длинну и ширину прямоугольника и выводит его площадь:\n",
        "\n",
        "\n",
        "\n",
        "`Введите длинну прямоугольника:`\n",
        "\n",
        "`Введите ширину прямоугольника:`\n",
        "\n",
        "`Площадь прямоугольника: `\n",
        "\n"
      ],
      "metadata": {
        "id": "OW1Y5KyUE_n9"
      }
    },
    {
      "cell_type": "code",
      "source": [
        "print('Введите длинну прямоугльника:')\n",
        "d=int(input())\n",
        "print('Введите ширину прямоугольника:')\n",
        "s=int(input())\n",
        "print('Площадь прямоугольника:', d*s)"
      ],
      "metadata": {
        "id": "Bu5iawknFbXP",
        "colab": {
          "base_uri": "https://localhost:8080/"
        },
        "outputId": "e2b2f7b2-078c-4bae-fd5d-c2cceb6a4649"
      },
      "execution_count": null,
      "outputs": [
        {
          "output_type": "stream",
          "name": "stdout",
          "text": [
            "Введите длинну прямоугльника:\n",
            "2\n",
            "Введите ширину прямоугольника:\n",
            "10\n",
            "Площадь прямоугольника: 20\n"
          ]
        }
      ]
    },
    {
      "cell_type": "markdown",
      "source": [
        "Задание 5: Напишите программу, которая будет вычислять среднее арифметическое введенных чисел"
      ],
      "metadata": {
        "id": "xj8_QNLsFfLw"
      }
    },
    {
      "cell_type": "code",
      "source": [
        "print('Через запятую, введите числа:')\n",
        "d=str(input())\n",
        "d=d.split(',')\n",
        "l=len(d)\n",
        "i=0\n",
        "for x in d:\n",
        "  i+=int(x)\n",
        "print('Среднее арифметическое:',i//l)\n",
        "\n"
      ],
      "metadata": {
        "id": "omumX59JFoKw",
        "colab": {
          "base_uri": "https://localhost:8080/"
        },
        "outputId": "193450a7-f8f8-4ad3-fda0-3e902082885e"
      },
      "execution_count": null,
      "outputs": [
        {
          "output_type": "stream",
          "name": "stdout",
          "text": [
            "Через запятую, введите числа:\n",
            "18,93,7\n",
            "39\n"
          ]
        }
      ]
    },
    {
      "cell_type": "markdown",
      "source": [
        "Задание 6: Напиши программу, которая бы определяла является ли год високосным"
      ],
      "metadata": {
        "id": "qHXcBMUJcP91"
      }
    },
    {
      "cell_type": "code",
      "source": [
        "print('Введите год:')\n",
        "g=int(input())\n",
        "if g%400==0:\n",
        "  print('Это високосный год!')\n",
        "elif g%4==0 and g%100!=0:\n",
        "  print('Это високосный год!')\n",
        "else:\n",
        "  print('Этот год невисокосный!')"
      ],
      "metadata": {
        "id": "5zIg47mwcKKr",
        "colab": {
          "base_uri": "https://localhost:8080/"
        },
        "outputId": "26cae6cd-f988-4f29-cb54-5f4c4c5e2422"
      },
      "execution_count": null,
      "outputs": [
        {
          "output_type": "stream",
          "name": "stdout",
          "text": [
            "Введите год:\n",
            "2100\n",
            "Этот год невисокосный!\n"
          ]
        }
      ]
    },
    {
      "cell_type": "markdown",
      "source": [
        "Задание 7: Необходимо создать простой калькулятор, который позволяет пользователю выбрать одну из четырёх операций (+, -, *, /), ввести два числа и получить результат выполнения операции."
      ],
      "metadata": {
        "id": "CYaQ69kucdhj"
      }
    },
    {
      "cell_type": "code",
      "source": [
        "print('Введите необходимую операцию(+,-,*,/)')\n",
        "o=input()\n",
        "print('Введите два числа через пробел')\n",
        "c=input()\n",
        "c=c.split(' ')\n",
        "if '+' in o:\n",
        "  d=int(c[0])+int(c[1])\n",
        "elif '-' in o:\n",
        "  d=int(c[0])-int(c[1])\n",
        "elif '*' in o:\n",
        "  d=int(c[0])*int(c[1])\n",
        "else:\n",
        "  d=int(c[0])/int(c[1])\n",
        "print(d)\n"
      ],
      "metadata": {
        "id": "wR5UyEf7ciIE",
        "colab": {
          "base_uri": "https://localhost:8080/"
        },
        "outputId": "4b65ea74-d7f8-408a-9bc1-cddbc69f89c3"
      },
      "execution_count": null,
      "outputs": [
        {
          "output_type": "stream",
          "name": "stdout",
          "text": [
            "Введите необходимую операцию(+,-,*,/)\n",
            "+\n",
            "Введите два числа через пробел\n",
            "25 7\n",
            "32\n"
          ]
        }
      ]
    },
    {
      "cell_type": "markdown",
      "source": [
        "--------------------------------------------------------------------------------\n",
        "\n",
        "**Да, задания ниже тоже обязательны, вам необходимо выполнить веееееесь файл**\n",
        "\n",
        "--------------------------------------------------------------------------------\n"
      ],
      "metadata": {
        "id": "PcJ66hI-vAlk"
      }
    },
    {
      "cell_type": "markdown",
      "source": [
        "# Практика 0.2.1"
      ],
      "metadata": {
        "id": "XWBhGpdEFo-U"
      }
    },
    {
      "cell_type": "markdown",
      "source": [
        "**Шахматы**\n",
        "\n",
        "Даны стартовые и конечные координаты, а также фигура\n",
        "\n",
        "Необходимо определить, может ли заданная фигура так ходить?"
      ],
      "metadata": {
        "id": "9Lw9odpqFwtn"
      }
    },
    {
      "cell_type": "code",
      "source": [
        "print('Введите название фигуры')\n",
        "f=input()\n",
        "print('Введите начальные координаты')\n",
        "nx=int(input())\n",
        "ny=int(input())\n",
        "print('Введите конечные координаты')\n",
        "kx=int(input())\n",
        "ky=int(input())\n",
        "if (kx or ky or ny or nx)>=9 or (kx or ky or nx or ny)<=0: print('Ложные координаты')\n",
        "else:\n",
        "  if f=='ладья':\n",
        "    if (nx==kx) != (ny==ky):\n",
        "      print('да')\n",
        "    else:\n",
        "      print('нет')\n",
        "  if f=='слон':\n",
        "    if (nx-kx)==(ny-ky):\n",
        "      print('да')\n",
        "    else:\n",
        "      print('нет')\n",
        "  if f=='ферзь':\n",
        "    if (nx-kx)==(ny-ky) or (nx==kx) != (ny==ky):\n",
        "      print('да')\n",
        "    else:\n",
        "      print('нет')\n",
        "  if f=='король':\n",
        "    if abs(nx-kx)<=1 and abs(ny-ky)<=1:\n",
        "      print('Да')\n",
        "    else:\n",
        "      print('Нет')\n",
        "  if f=='конь':\n",
        "    if abs(nx-kx) + abs(ny-ky)>=3 and abs(nx-kx) + abs(ny-ky)<=4:\n",
        "      print('да')\n",
        "    else:\n",
        "      print('нет')\n",
        "  if f=='пешка':\n",
        "    if ny==2 and nx==kx and (ky-ny)<=2 and (ky-ny)>=1:\n",
        "      print('да')\n",
        "    elif nx==kx and (ky-ny)==1:\n",
        "      print('да')\n",
        "    else:\n",
        "      print('нет')"
      ],
      "metadata": {
        "id": "9IICo0p3F07P",
        "colab": {
          "base_uri": "https://localhost:8080/"
        },
        "outputId": "31666590-d761-43eb-c238-431314883172"
      },
      "execution_count": null,
      "outputs": [
        {
          "output_type": "stream",
          "name": "stdout",
          "text": [
            "Введите название фигуры\n",
            "ферзь\n",
            "Введите начальные координаты\n",
            "8\n",
            "8\n",
            "Введите конечные координаты\n",
            "1\n",
            "1\n",
            "да\n"
          ]
        }
      ]
    },
    {
      "cell_type": "markdown",
      "source": [
        "# Практика 0.2.2\n",
        "\n",
        "**Цифра на определенном месте:**\n",
        "\n",
        "Последовательно записан натуральный ряд чисел.\n",
        "\n",
        "Какая цифра стоит в N позиции"
      ],
      "metadata": {
        "id": "wI5bLNpHGDmO"
      }
    },
    {
      "cell_type": "code",
      "source": [
        "print('Введите ряд натуральных чисел:')\n",
        "s=input()\n",
        "s=s.split()\n",
        "a=''\n",
        "for x in s:\n",
        "  a=a+x\n",
        "print('Введите число N:')\n",
        "n=int(input())\n",
        "l=0\n",
        "for x in a:\n",
        "  l+=1\n",
        "  if l==n:\n",
        "    print(x)\n",
        "\n"
      ],
      "metadata": {
        "id": "XLm_zFGzGNsU",
        "colab": {
          "base_uri": "https://localhost:8080/"
        },
        "outputId": "03847743-11f0-41b3-bf54-9c404a49337d"
      },
      "execution_count": null,
      "outputs": [
        {
          "output_type": "stream",
          "name": "stdout",
          "text": [
            "Введите ряд натуральных чисел:\n",
            "123456789 10 444 576 1834\n",
            "Введите число N:\n",
            "16\n",
            "7\n"
          ]
        }
      ]
    },
    {
      "cell_type": "markdown",
      "source": [
        "# Практика 0.2.3\n",
        "\n",
        "\n",
        "Возьмите код из задания 7 и улучшите ваш калькулятор следующим образом:\n",
        "\n",
        "Пользователь вводит строку вида:\n",
        "\n",
        "(5+5)*5 - данная строка содержит в себе математическое выражение, а также скобки\n",
        "\n",
        "Ваша программа должная понять что за математическое выражение записано, проверить верно ли оно записано (пример неверного заполнения: (5(+)5)*5, а также расчитать его в соотвествии с правилами математики"
      ],
      "metadata": {
        "id": "dpxTJv-scnMy"
      }
    },
    {
      "cell_type": "code",
      "source": [
        "\n",
        "print('Введите математическое выражение')\n",
        "o=input()\n",
        "if '(+)'in o or '(-)'in o or '(*)' in o or '(/)'in o: print('Некорректное выражение')\n",
        "if (o.count('(')+o.count(')'))%2!=0: print('Некорректное выражение')\n",
        "d=''\n",
        "for i in o:\n",
        "  if i=='(' or i==')': d+='1'\n",
        "  elif i=='*' or i=='/':d+='2'\n",
        "  elif i=='+' or i=='-': d+='3'\n",
        "  else: d+='0'\n",
        "print(d)\n",
        "k1=''\n",
        "k0=''\n",
        "k2=''\n",
        "k3=''\n",
        "l=-1\n",
        "for i in d:\n",
        "  l+=1\n",
        "  if i=='1':\n",
        "    k1=k1+str(l)\n",
        "  elif i=='0':\n",
        "    k0=k0+str(l)\n",
        "  elif i=='2':\n",
        "    k2=k2+str(l)\n",
        "  else:\n",
        "    k3=k3+str(l)\n",
        "q1=''\n",
        "q2=''\n",
        "q21=''\n",
        "f1=0\n",
        "g1=0\n",
        "if k1!='':\n",
        "  q1=o[int(k1[0])+1:int(k1[1])]\n",
        "for x in k2:\n",
        "  if x not in d[int(k1[0]):int(k1[1])+1]:\n",
        "    if str(int(x)-1) in k0:\n",
        "      q2=o[int(x)-1:int(x)+1]\n",
        "      q21=o[int(x):int(x)+1]\n",
        "    else:\n",
        "      q2=o[int(x):int(x)+2]\n",
        "      q21=o[int(x)+1:int(x)+2]\n",
        "if '+' in q1:\n",
        "  g1=int(q1[0])+int(q1[-1])\n",
        "elif '-' in o:\n",
        "  g1=int(q1[0])-int(q1[-1])\n",
        "elif '*' in o:\n",
        "  g1=int(q1[0])*int(q1[-1])\n",
        "else:\n",
        "  g1=int(q1[0])/int(q1[-1])\n",
        "if '*' in q2:\n",
        "  f1=g1*int(q21)\n",
        "elif '/' in q2:\n",
        "  if '/'==q2[0]:\n",
        "    f1=g1/q21\n",
        "  else:\n",
        "    f1=q21/g1\n",
        "print(f1)\n",
        "\n",
        "\n",
        "\n",
        "\n",
        "\n",
        "\n",
        "\n",
        "\n",
        "\n",
        "\n",
        "\n",
        "\n",
        "\n",
        "\n"
      ],
      "metadata": {
        "id": "18gOluyHcmmf",
        "colab": {
          "base_uri": "https://localhost:8080/"
        },
        "outputId": "96e6a68b-3d84-4307-c30e-4c76c2f9ac10"
      },
      "execution_count": null,
      "outputs": [
        {
          "output_type": "stream",
          "name": "stdout",
          "text": [
            "Введите математическое выражение\n",
            "(5+5)*5\n",
            "1030120\n",
            "50\n"
          ]
        }
      ]
    },
    {
      "cell_type": "code",
      "source": [],
      "metadata": {
        "id": "ObwCgVAC6ce-"
      },
      "execution_count": null,
      "outputs": []
    },
    {
      "cell_type": "code",
      "source": [],
      "metadata": {
        "id": "Lys0VrYi4tru"
      },
      "execution_count": null,
      "outputs": []
    }
  ]
}