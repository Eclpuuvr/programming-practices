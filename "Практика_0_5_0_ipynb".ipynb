{
  "nbformat": 4,
  "nbformat_minor": 0,
  "metadata": {
    "colab": {
      "provenance": []
    },
    "kernelspec": {
      "name": "python3",
      "display_name": "Python 3"
    },
    "language_info": {
      "name": "python"
    }
  },
  "cells": [
    {
      "cell_type": "markdown",
      "source": [
        "ФИО:"
      ],
      "metadata": {
        "id": "Bu5gIJfHNPHw"
      }
    },
    {
      "cell_type": "code",
      "execution_count": null,
      "metadata": {
        "id": "CbHI8c7cM9Eg"
      },
      "outputs": [],
      "source": [
        "print('Кириловских Валерия Вадимовна')"
      ]
    },
    {
      "cell_type": "markdown",
      "source": [
        "# **Задание 1**"
      ],
      "metadata": {
        "id": "VrNrBpmocGRd"
      }
    },
    {
      "cell_type": "markdown",
      "source": [
        "\n",
        "\n",
        "Дан словарь, содержащий имена и возраст людей, напишите программу выводящую возраст человека по имени\n",
        "\n",
        "Дано:\n",
        "\n",
        "```\n",
        "{\"Alice\": 25, \"Bob\": 30, \"Charlie\": 35}\n",
        "```\n",
        "\n",
        "Вввод:\n",
        "\n",
        "\n",
        "```\n",
        "Alice\n",
        "```\n",
        "\n",
        "Вывод:\n",
        "\n",
        "\n",
        "```\n",
        "Alice 25\n",
        "```\n"
      ],
      "metadata": {
        "id": "XhV1bnm1bR2h"
      }
    },
    {
      "cell_type": "code",
      "source": [
        "a={\"Alice\": 25, \"Bob\": 30, \"Charlie\": 35}\n",
        "i=input()\n",
        "print(i, a[str(i)])"
      ],
      "metadata": {
        "id": "PElJj6DvsgjD",
        "colab": {
          "base_uri": "https://localhost:8080/"
        },
        "outputId": "15755dd4-d354-49ee-d05a-29c85c850c7b"
      },
      "execution_count": null,
      "outputs": [
        {
          "output_type": "stream",
          "name": "stdout",
          "text": [
            "Alice\n",
            "25\n"
          ]
        }
      ]
    },
    {
      "cell_type": "markdown",
      "source": [
        "# **Задание 2**\n"
      ],
      "metadata": {
        "id": "lpjJz-_YcJ-t"
      }
    },
    {
      "cell_type": "markdown",
      "source": [
        "\n",
        "\n",
        "Дан список, состоящий из целых чисел, необходимо написать функцию считающую сумму всех положительных четных чисел списка\n",
        "\n",
        "Ввод:\n",
        "\n",
        "```\n",
        "1, 2, 3, 4, 5, 6, 7, 8, 9\n",
        "```\n",
        "\n",
        "Вывод:\n",
        "\n",
        "\n",
        "```\n",
        "20\n",
        "```\n",
        "\n",
        "***Запрещено:***\n",
        "\n",
        "*   Использование готовых функций для суммирования чисел\n"
      ],
      "metadata": {
        "id": "tMEsAB4rUiWW"
      }
    },
    {
      "cell_type": "code",
      "source": [
        "i = input()\n",
        "i=i.split(', ')\n",
        "d=0\n",
        "for x in i:\n",
        "  if int(x)%2==0 and '-' not in x:\n",
        "    d+=int(x)\n",
        "print(d)"
      ],
      "metadata": {
        "id": "wDNUFLeqNQS_",
        "colab": {
          "base_uri": "https://localhost:8080/"
        },
        "outputId": "11364152-1d8f-4eb0-fca0-52f744d7cea0"
      },
      "execution_count": null,
      "outputs": [
        {
          "output_type": "stream",
          "name": "stdout",
          "text": [
            "1, 2, 3, 4, 5, 6, 7, 8, 9\n",
            "20\n"
          ]
        }
      ]
    },
    {
      "cell_type": "markdown",
      "source": [
        "# **Задание 3**"
      ],
      "metadata": {
        "id": "WT_v-vz1dUZJ"
      }
    },
    {
      "cell_type": "markdown",
      "source": [
        "Дан словарь, содержащий название фрукта и его цвет, выведите список всех желтых фруктов\n",
        "\n",
        "\n",
        "Дано:\n",
        "\n",
        "```\n",
        "fruits_and_colors = {\n",
        "    \"apple\": \"red\",\n",
        "    \"banana\": \"yellow\",\n",
        "    \"mango\": \"yellow\",\n",
        "    \"orange\": \"orange\",\n",
        "    \"lemon\": \"yellow\",\n",
        "    \"grape\": \"purple\"\n",
        "}\n",
        "```\n",
        "\n",
        "Вывод:\n",
        "\n",
        "\n",
        "```\n",
        "Yellow fruits:\n",
        "banana\n",
        "lemon\n",
        "mango\n",
        "```\n",
        "\n"
      ],
      "metadata": {
        "id": "ZI5Xeh2DdXgF"
      }
    },
    {
      "cell_type": "code",
      "source": [
        "fruits_and_colors = {\n",
        "    \"apple\": \"red\",\n",
        "    \"banana\": \"yellow\",\n",
        "    \"mango\": \"yellow\",\n",
        "    \"orange\": \"orange\",\n",
        "    \"lemon\": \"yellow\",\n",
        "    \"grape\": \"purple\"\n",
        "}\n",
        "print('Yellow fruits:')\n",
        "for k in fruits_and_colors.keys():\n",
        "  if fruits_and_colors[str(k)]=='yellow':\n",
        "    print(k)"
      ],
      "metadata": {
        "id": "aNzFTkhKdkTG",
        "colab": {
          "base_uri": "https://localhost:8080/"
        },
        "outputId": "9fe778cf-65cf-4e7a-c0d7-4830a9faf8bc"
      },
      "execution_count": null,
      "outputs": [
        {
          "output_type": "stream",
          "name": "stdout",
          "text": [
            "Yellow fruits:\n",
            "banana\n",
            "mango\n",
            "lemon\n"
          ]
        }
      ]
    },
    {
      "cell_type": "markdown",
      "source": [
        "# **Задание 4**\n"
      ],
      "metadata": {
        "id": "iHtMGt2icM7w"
      }
    },
    {
      "cell_type": "markdown",
      "source": [
        "\n",
        "\n",
        "Дан словарь, необходимо написать функцию меняющую ключ и значение местами\n",
        "\n",
        "Дано:\n",
        "\n",
        "\n",
        "```\n",
        "{\"a\": 1, \"b\": 2, \"c\": 3}\n",
        "```\n",
        "\n",
        "Вывод:\n",
        "\n",
        "```\n",
        "{1: 'a', 2: 'b', 3: 'c'}\n",
        "```\n",
        "\n"
      ],
      "metadata": {
        "id": "rS3THsnBQ_EB"
      }
    },
    {
      "cell_type": "code",
      "source": [
        "b={\"a\": 1, \"b\": 2, \"c\": 3}\n",
        "def kav(a):\n",
        "  d={}\n",
        "  for k,v in a.items():\n",
        "    d[v]=k\n",
        "  return d\n",
        "print(kav(b))"
      ],
      "metadata": {
        "id": "MNRusyLDcQ59",
        "colab": {
          "base_uri": "https://localhost:8080/"
        },
        "outputId": "29855aa7-2239-4a91-83e2-d89388e35751"
      },
      "execution_count": null,
      "outputs": [
        {
          "output_type": "stream",
          "name": "stdout",
          "text": [
            "{1: 'a', 2: 'b', 3: 'c'}\n"
          ]
        }
      ]
    },
    {
      "cell_type": "markdown",
      "source": [
        "# **Задание 5**"
      ],
      "metadata": {
        "id": "x6ff5nd0cUxD"
      }
    },
    {
      "cell_type": "markdown",
      "source": [
        "Дан список слов, неограниченной длинны, сформируйте словарь, где в качестве ключа будет слово, а в качестве значения количество слов\n",
        "\n",
        "**Критерии**\n",
        "\n",
        "\n",
        "*   Словарь необходимо отсортировать по убыванию количества элементов в списке.\n",
        "*   Подсчет элементов должен быть реализован в отдельной функции\n",
        "*   Сортировка пары `ключ:значение` должна быть реализована также в виде отдельной функции\n",
        "\n",
        "\n",
        "\n",
        "\n",
        "Дано:\n",
        "```\n",
        "['apple','banana','orange','apple','apple','banana']\n",
        "```\n",
        "\n",
        "\n",
        "Вывод:\n",
        "```\n",
        "{'apple':3, 'banana': 2, 'orange': 1}\n",
        "```\n",
        "\n",
        "***Запрещено:***\n",
        "\n",
        "*   Использование готовых функций для сортировки\n",
        "*   Использование готовых функций для подсчета элементов\n",
        "\n"
      ],
      "metadata": {
        "id": "ypQNHOG4NQz3"
      }
    },
    {
      "cell_type": "code",
      "source": [
        "from re import M\n",
        "# Подсказка: сортировку словаря можно сделать через две функции (нахождение максимального эллемента и основной функции сортировки)\n",
        "def count(a):\n",
        "  s={}\n",
        "  for x in a:\n",
        "    if x not in s:\n",
        "      s[str(x)]=1\n",
        "    else:\n",
        "      s[str(x)]+=1\n",
        "  return s\n",
        "\n",
        "\n",
        "def mmax(a):\n",
        "  maxk=0\n",
        "  maxv=0\n",
        "  for k, v in a.items():\n",
        "    if maxv<v:\n",
        "      maxv=v\n",
        "      maxk=k\n",
        "  return maxk,maxv\n",
        "\n",
        "\n",
        "\n",
        "def sort(a):\n",
        "  s={}\n",
        "  while a!={}:\n",
        "    maxk,maxv=mmax(a)\n",
        "    s[maxk]=maxv\n",
        "    del a[maxk]\n",
        "  return s\n",
        "\n",
        "\n",
        "def g(a):\n",
        "  a=['apple','banana','orange','apple','apple','banana']\n",
        "  c=count(a)\n",
        "  s=sort(c)\n",
        "  print(s)\n",
        "\n",
        "\n",
        "g(a)\n"
      ],
      "metadata": {
        "id": "J10PjdVQUbyq",
        "colab": {
          "base_uri": "https://localhost:8080/"
        },
        "outputId": "7c80ebe8-b255-4104-da34-110b57ff02de"
      },
      "execution_count": null,
      "outputs": [
        {
          "output_type": "stream",
          "name": "stdout",
          "text": [
            "{'apple': 3, 'banana': 2, 'orange': 1}\n"
          ]
        }
      ]
    },
    {
      "cell_type": "markdown",
      "source": [
        "# **Задание 6**"
      ],
      "metadata": {
        "id": "d7fDUr2WcY_G"
      }
    },
    {
      "cell_type": "markdown",
      "source": [
        "Дан словарь, содержащий информацию о людях, необходимо:\n",
        "\n",
        "\n",
        "\n",
        "*   Вывести всех людей старше 30 лет\n",
        "*   Вывести список городов и количество людей из словаря проживающих в них\n",
        "*   Вывести список профессий и список людей для каждой профессии\n",
        "\n",
        "**Критерии**\n",
        "\n",
        "Каждый из пунктов необходимо реализовать в виде функции\n",
        "\n"
      ],
      "metadata": {
        "id": "m11qdVhSWBi7"
      }
    },
    {
      "cell_type": "code",
      "source": [
        "people_info = {\n",
        "    \"Alice\": {\"age\": 25, \"city\": \"New York\", \"occupation\": \"Engineer\"},\n",
        "    \"Bob\": {\"age\": 30, \"city\": \"Los Angeles\", \"occupation\": \"Designer\"},\n",
        "    \"Charlie\": {\"age\": 35, \"city\": \"Chicago\", \"occupation\": \"Teacher\"},\n",
        "    \"Diana\": {\"age\": 28, \"city\": \"Miami\", \"occupation\": \"Doctor\"},\n",
        "    \"Ethan\": {\"age\": 40, \"city\": \"Seattle\", \"occupation\": \"Chef\"},\n",
        "    \"Frank\": {\"age\": 32, \"city\": \"Atlanta\", \"occupation\": \"Lawyer\"},\n",
        "    \"Gabriella\": {\"age\": 29, \"city\": \"San Francisco\", \"occupation\": \"Software Engineer\"},\n",
        "    \"Harrison\": {\"age\": 38, \"city\": \"Denver\", \"occupation\": \"Architect\"},\n",
        "    \"Isabella\": {\"age\": 26, \"city\": \"Washington D.C.\", \"occupation\": \"Journalist\"},\n",
        "    \"Julian\": {\"age\": 42, \"city\": \"Miami\", \"occupation\": \"Musician\"},\n",
        "    \"Kate\": {\"age\": 31, \"city\": \"Philadelphia\", \"occupation\": \"Nurse\"},\n",
        "    \"Lucas\": {\"age\": 36, \"city\": \"Nashville\", \"occupation\": \"Businessman\"},\n",
        "    \"Mia\": {\"age\": 27, \"city\": \"Atlanta\", \"occupation\": \"Artist\"},\n",
        "    \"Natalie\": {\"age\": 39, \"city\": \"Portland\", \"occupation\": \"Writer\"},\n",
        "    \"Oliver\": {\"age\": 44, \"city\": \"Minneapolis\", \"occupation\": \"Professor\"},\n",
        "    \"Penelope\": {\"age\": 33, \"city\": \"San Diego\", \"occupation\": \"Marketing Manager\"},\n",
        "    \"Quincy\": {\"age\": 41, \"city\": \"Nashville\", \"occupation\": \"Singer\"},\n",
        "    \"Rachel\": {\"age\": 34, \"city\": \"Cleveland\", \"occupation\": \"Teacher\"},\n",
        "    \"Sophia\": {\"age\": 29, \"city\": \"Nashville\", \"occupation\": \"Engineer\"},\n",
        "    \"Tessa\": {\"age\": 37, \"city\": \"Miami\", \"occupation\": \"Lawyer\"}\n",
        "}"
      ],
      "metadata": {
        "id": "lSNtB39OWtFl"
      },
      "execution_count": null,
      "outputs": []
    },
    {
      "cell_type": "code",
      "source": [
        "def star(people_info):\n",
        "  l=[]\n",
        "  for x in people_info.keys():\n",
        "    if people_info[x][\"age\"]>30:\n",
        "      l.append(x)\n",
        "  return l\n",
        "\n",
        "\n",
        "def city(people_info):\n",
        "  d={}\n",
        "  for x in people_info.keys():\n",
        "    if people_info[x][\"city\"] not in d:\n",
        "      d[people_info[x][\"city\"]]=1\n",
        "    else:\n",
        "      d[people_info[x][\"city\"]]+=1\n",
        "  return d\n",
        "\n",
        "\n",
        "def prof(people_info):\n",
        "  f={}\n",
        "  for x in people_info.keys():\n",
        "    if people_info[x][\"occupation\"] not in f:\n",
        "      f[people_info[x][\"occupation\"]]=[str(x)]\n",
        "    else:\n",
        "      f[people_info[x][\"occupation\"]].append(str(x))\n",
        "  return f\n",
        "\n",
        "\n",
        "people_info = {\n",
        "    \"Alice\": {\"age\": 25, \"city\": \"New York\", \"occupation\": \"Engineer\"},\n",
        "    \"Bob\": {\"age\": 30, \"city\": \"Los Angeles\", \"occupation\": \"Designer\"},\n",
        "    \"Charlie\": {\"age\": 35, \"city\": \"Chicago\", \"occupation\": \"Teacher\"},\n",
        "    \"Diana\": {\"age\": 28, \"city\": \"Miami\", \"occupation\": \"Doctor\"},\n",
        "    \"Ethan\": {\"age\": 40, \"city\": \"Seattle\", \"occupation\": \"Chef\"},\n",
        "    \"Frank\": {\"age\": 32, \"city\": \"Atlanta\", \"occupation\": \"Lawyer\"},\n",
        "    \"Gabriella\": {\"age\": 29, \"city\": \"San Francisco\", \"occupation\": \"Software Engineer\"},\n",
        "    \"Harrison\": {\"age\": 38, \"city\": \"Denver\", \"occupation\": \"Architect\"},\n",
        "    \"Isabella\": {\"age\": 26, \"city\": \"Washington D.C.\", \"occupation\": \"Journalist\"},\n",
        "    \"Julian\": {\"age\": 42, \"city\": \"Miami\", \"occupation\": \"Musician\"},\n",
        "    \"Kate\": {\"age\": 31, \"city\": \"Philadelphia\", \"occupation\": \"Nurse\"},\n",
        "    \"Lucas\": {\"age\": 36, \"city\": \"Nashville\", \"occupation\": \"Businessman\"},\n",
        "    \"Mia\": {\"age\": 27, \"city\": \"Atlanta\", \"occupation\": \"Artist\"},\n",
        "    \"Natalie\": {\"age\": 39, \"city\": \"Portland\", \"occupation\": \"Writer\"},\n",
        "    \"Oliver\": {\"age\": 44, \"city\": \"Minneapolis\", \"occupation\": \"Professor\"},\n",
        "    \"Penelope\": {\"age\": 33, \"city\": \"San Diego\", \"occupation\": \"Marketing Manager\"},\n",
        "    \"Quincy\": {\"age\": 41, \"city\": \"Nashville\", \"occupation\": \"Singer\"},\n",
        "    \"Rachel\": {\"age\": 34, \"city\": \"Cleveland\", \"occupation\": \"Teacher\"},\n",
        "    \"Sophia\": {\"age\": 29, \"city\": \"Nashville\", \"occupation\": \"Engineer\"},\n",
        "    \"Tessa\": {\"age\": 37, \"city\": \"Miami\", \"occupation\": \"Lawyer\"}}\n",
        "print('Люди, старше 30 лет:')\n",
        "for x in star(people_info):\n",
        "  print(x)\n",
        "print('Список городов и количество людей из него:')\n",
        "z=city(people_info)\n",
        "for k,v in z.items():\n",
        "  print(k,':',v)\n",
        "print('Список профессий и список людей для каждой профессии:')\n",
        "for k,v in prof(people_info).items():\n",
        "  print(k,':', v)\n"
      ],
      "metadata": {
        "id": "qcLO5eQwXkNK",
        "colab": {
          "base_uri": "https://localhost:8080/"
        },
        "outputId": "9c72cb4c-979e-4b30-b27b-9523080a5768"
      },
      "execution_count": null,
      "outputs": [
        {
          "output_type": "stream",
          "name": "stdout",
          "text": [
            "Люди, старше 30 лет:\n",
            "Charlie\n",
            "Ethan\n",
            "Frank\n",
            "Harrison\n",
            "Julian\n",
            "Kate\n",
            "Lucas\n",
            "Natalie\n",
            "Oliver\n",
            "Penelope\n",
            "Quincy\n",
            "Rachel\n",
            "Tessa\n",
            "Список городов и количество людей из него:\n",
            "New York : 1\n",
            "Los Angeles : 1\n",
            "Chicago : 1\n",
            "Miami : 3\n",
            "Seattle : 1\n",
            "Atlanta : 2\n",
            "San Francisco : 1\n",
            "Denver : 1\n",
            "Washington D.C. : 1\n",
            "Philadelphia : 1\n",
            "Nashville : 3\n",
            "Portland : 1\n",
            "Minneapolis : 1\n",
            "San Diego : 1\n",
            "Cleveland : 1\n",
            "Список профессий и список людей для каждой профессии:\n",
            "Engineer : ['Alice', 'Sophia']\n",
            "Designer : ['Bob']\n",
            "Teacher : ['Charlie', 'Rachel']\n",
            "Doctor : ['Diana']\n",
            "Chef : ['Ethan']\n",
            "Lawyer : ['Frank', 'Tessa']\n",
            "Software Engineer : ['Gabriella']\n",
            "Architect : ['Harrison']\n",
            "Journalist : ['Isabella']\n",
            "Musician : ['Julian']\n",
            "Nurse : ['Kate']\n",
            "Businessman : ['Lucas']\n",
            "Artist : ['Mia']\n",
            "Writer : ['Natalie']\n",
            "Professor : ['Oliver']\n",
            "Marketing Manager : ['Penelope']\n",
            "Singer : ['Quincy']\n"
          ]
        }
      ]
    },
    {
      "cell_type": "markdown",
      "source": [
        "# **Задание 7**"
      ],
      "metadata": {
        "id": "27IuB2YScezw"
      }
    },
    {
      "cell_type": "markdown",
      "source": [
        "Задание: Разработка системы отзывов о предметах\n",
        "\n",
        "Описание: Создать программу на Python для хранения и управления отзывами о предметах учебного курса. Программа должна позволять пользователям добавлять, просматривать и удалять отзывы, а также вычислять средний балл по заданному предмету.\n",
        "\n",
        "**Функционал:**\n",
        "\n",
        "*   Добавление отзыва и оценки:\n",
        "   *   Пользователь может ввести название предмета, оценку (от 1 до 5) и текст отзыва.\n",
        "   *   Отзывы должны храниться в структуре данных (например, словаре), где ключом будет название предмета, а значением - список отзывов (каждый отзыв может хранить оценку и комментарий).\n",
        "*   Просмотр отзывов и оценок:\n",
        "   *   Пользователь может запросить отзывы для указанного предмета.\n",
        "   *   Если для указанного предмета есть отзывы, программа должна отобразить список всех отзывов и соответствующих оценок.\n",
        "*   Удаление отзыва:\n",
        "   *   Пользователь может удалить отзыв по индексу. Необходимо заранее уведомить пользователя о том, какие отзывы доступны для удаления.\n",
        "   *   Программа должна обработать ситуацию, когда индекс введен неправильно.\n",
        "*   Вычисление среднего балла по предмету:\n",
        "   *   Пользователь может ввести название предмета, и программа должна вычислить и вывести средний балл по всем отзывам для этого предмета.\n",
        "   *   Если отзывов нет, программа должна сообщить об этом.\n",
        "\n",
        "\n",
        "**Критерии:**\n",
        "\n",
        "*   Код должен быть оформлен в виде функций\n",
        "*   Необходимо обрабатывать неправильный ввод пользователя\n",
        "*   Должны быть комментарии к функциям\n",
        "*   Присутсвует весь дополнительный функционал\n",
        "\n",
        "\n",
        "\n",
        "**Опционально:**\n",
        "\n",
        "Предлагаю вам добавить свои критерии оценки или вопросы, на которые должен ответить студент, чтобы оценить пару\n",
        "\n",
        "\n"
      ],
      "metadata": {
        "id": "Fd95-S9cYhct"
      }
    },
    {
      "cell_type": "code",
      "source": [
        "def dobav(otzivi,x,y1,y2): # добавляем предмет, оценку и отзыв в словарь\n",
        "    i=0\n",
        "    for r in otzivi.keys():\n",
        "        if str(r)==x:\n",
        "            i+=1\n",
        "    if i<1:\n",
        "        otzivi[x]=[[y1,y2]]\n",
        "    else:\n",
        "        otzivi[x].append([y1,y2])\n",
        "    return otzivi\n",
        "\n",
        "\n",
        "def smotr(otzivi,x): # возвращает все отзывы и оценки предмета\n",
        "    return otzivi[x]\n",
        "\n",
        "\n",
        "def dell(otzivi,x,y):# удаляет отзыв и оценку по индексу\n",
        "    otzivi[x].pop(y-1)\n",
        "    return otzivi[x]\n",
        "\n",
        "\n",
        "def sredo(otzivi,x):# возвращает среднюю оценку предмета\n",
        "    i=0\n",
        "    k=0\n",
        "    for w in otzivi[x]:\n",
        "        i+=1\n",
        "        k+=int(w[0])\n",
        "    return k/i\n",
        "\n",
        "\n",
        "otzivi={}\n",
        "print('Выберите номер нужной функции:')\n",
        "u=0\n",
        "while u!='':\n",
        "    f=['Добавить отзыв и оценку для предмета', 'Посмотреть отзывы и оценки для предмета', 'Удалить отзыв', 'Вычислить средний балл']\n",
        "    e=0\n",
        "    for w in f:\n",
        "        e+=1\n",
        "        print(e,w)\n",
        "    r=input()\n",
        "    if r=='1':\n",
        "        print('Введите через пробел полное название предмета(с маленькой буквы) и оценку от 1 до 5')\n",
        "        s=input()\n",
        "        s=s.split()\n",
        "        x=s[0]\n",
        "        y1=s[1]\n",
        "        print('Введите текст отзыва')\n",
        "        y2=input()\n",
        "        otzivi=dobav(otzivi,x,y1,y2)\n",
        "        print('Отзыв успешно добавлен!')\n",
        "    elif r=='2':\n",
        "        print('Введите название предмета с маленькой буквы')\n",
        "        x=input()\n",
        "        if x in otzivi:\n",
        "            e=0\n",
        "            g=smotr(otzivi,x)\n",
        "            for k in g:\n",
        "                e+=1\n",
        "                print(e,'.',k[0])\n",
        "                print(k[1])\n",
        "        else:\n",
        "            print('Отзывов на этот предмет пока нет(')\n",
        "    elif r=='3':\n",
        "        print('Введите название предмета с маленькой буквы')\n",
        "        x = input()\n",
        "        e = 0\n",
        "        g = smotr(otzivi, x)\n",
        "        for k in g:\n",
        "            e += 1\n",
        "            print(e, '.', k[0])\n",
        "            print(k[1])\n",
        "        print('Введите номер отзыва:')\n",
        "        y=int(input())\n",
        "        if y>e:\n",
        "            print:('Такого отзыва пока нет(')\n",
        "        else:\n",
        "            res=dell(otzivi,x,y)\n",
        "            print('Отзыв удалён!')\n",
        "    elif r=='4':\n",
        "        print('Введите название предмета с маленькой буквы:')\n",
        "        x=input()\n",
        "        if x in otzivi:\n",
        "            print(sredo(otzivi,x))\n",
        "        else:\n",
        "            print('Отзывов на этот предмет пока нет(')\n",
        "\n",
        "    else:\n",
        "        u=r\n",
        "print('Спасибо, что воспользовались сервисом!')"
      ],
      "metadata": {
        "id": "kzucJrCUa0o7",
        "outputId": "34b4295e-627f-4096-ce69-782f8c2d7153",
        "colab": {
          "base_uri": "https://localhost:8080/",
          "height": 349
        }
      },
      "execution_count": null,
      "outputs": [
        {
          "name": "stdout",
          "output_type": "stream",
          "text": [
            "Выберите номер нужной функции:\n",
            "1 Добавить отзыв и оценку для предмета\n",
            "2 Посмотреть отзывы и оценки для предмета\n",
            "3 Удалить отзыв\n",
            "4 Вычислить средний балл\n",
            "1\n",
            "Введите через пробел полное название предмета(с маленькой буквы) и оценку от 1 до 5\n",
            "математика\n"
          ]
        },
        {
          "output_type": "error",
          "ename": "IndexError",
          "evalue": "list index out of range",
          "traceback": [
            "\u001b[0;31m---------------------------------------------------------------------------\u001b[0m",
            "\u001b[0;31mIndexError\u001b[0m                                Traceback (most recent call last)",
            "\u001b[0;32m<ipython-input-1-b1ce351b5083>\u001b[0m in \u001b[0;36m<cell line: 34>\u001b[0;34m()\u001b[0m\n\u001b[1;32m     44\u001b[0m         \u001b[0ms\u001b[0m\u001b[0;34m=\u001b[0m\u001b[0ms\u001b[0m\u001b[0;34m.\u001b[0m\u001b[0msplit\u001b[0m\u001b[0;34m(\u001b[0m\u001b[0;34m)\u001b[0m\u001b[0;34m\u001b[0m\u001b[0;34m\u001b[0m\u001b[0m\n\u001b[1;32m     45\u001b[0m         \u001b[0mx\u001b[0m\u001b[0;34m=\u001b[0m\u001b[0ms\u001b[0m\u001b[0;34m[\u001b[0m\u001b[0;36m0\u001b[0m\u001b[0;34m]\u001b[0m\u001b[0;34m\u001b[0m\u001b[0;34m\u001b[0m\u001b[0m\n\u001b[0;32m---> 46\u001b[0;31m         \u001b[0my1\u001b[0m\u001b[0;34m=\u001b[0m\u001b[0ms\u001b[0m\u001b[0;34m[\u001b[0m\u001b[0;36m1\u001b[0m\u001b[0;34m]\u001b[0m\u001b[0;34m\u001b[0m\u001b[0;34m\u001b[0m\u001b[0m\n\u001b[0m\u001b[1;32m     47\u001b[0m         \u001b[0mprint\u001b[0m\u001b[0;34m(\u001b[0m\u001b[0;34m'Введите текст отзыва'\u001b[0m\u001b[0;34m)\u001b[0m\u001b[0;34m\u001b[0m\u001b[0;34m\u001b[0m\u001b[0m\n\u001b[1;32m     48\u001b[0m         \u001b[0my2\u001b[0m\u001b[0;34m=\u001b[0m\u001b[0minput\u001b[0m\u001b[0;34m(\u001b[0m\u001b[0;34m)\u001b[0m\u001b[0;34m\u001b[0m\u001b[0;34m\u001b[0m\u001b[0m\n",
            "\u001b[0;31mIndexError\u001b[0m: list index out of range"
          ]
        }
      ]
    }
  ]
}