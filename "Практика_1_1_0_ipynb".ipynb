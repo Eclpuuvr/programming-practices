{
  "nbformat": 4,
  "nbformat_minor": 0,
  "metadata": {
    "colab": {
      "provenance": [],
      "include_colab_link": true
    },
    "kernelspec": {
      "name": "python3",
      "display_name": "Python 3"
    },
    "language_info": {
      "name": "python"
    }
  },
  "cells": [
    {
      "cell_type": "markdown",
      "metadata": {
        "id": "view-in-github",
        "colab_type": "text"
      },
      "source": [
        "<a href=\"https://colab.research.google.com/github/Eclpuuvr/programming-practices/blob/main/%22%D0%9F%D1%80%D0%B0%D0%BA%D1%82%D0%B8%D0%BA%D0%B0_1_1_0_ipynb%22.ipynb\" target=\"_parent\"><img src=\"https://colab.research.google.com/assets/colab-badge.svg\" alt=\"Open In Colab\"/></a>"
      ]
    },
    {
      "cell_type": "markdown",
      "source": [
        "**ФИО:**"
      ],
      "metadata": {
        "id": "GEsFKJm-ABFp"
      }
    },
    {
      "cell_type": "code",
      "execution_count": null,
      "metadata": {
        "id": "wZMLYG_G_-19"
      },
      "outputs": [],
      "source": [
        "Кириловских Валерия Вадимовна"
      ]
    },
    {
      "cell_type": "markdown",
      "source": [
        "# Задание 1"
      ],
      "metadata": {
        "id": "H4DrYnJjADuZ"
      }
    },
    {
      "cell_type": "markdown",
      "source": [
        "**Описание:** Создайте иерархию классов для разных типов сотрудников в компании. Реализуйте родительский класс Employee и дочерние классы Manager и Developer. Каждый класс должен иметь метод для расчета зарплаты на основе различных критериев класса.\n",
        "\n",
        "\n",
        "Отрабатываемый принцип: Наследование\n",
        "\n"
      ],
      "metadata": {
        "id": "C17FWep-AF4a"
      }
    },
    {
      "cell_type": "code",
      "source": [
        "class Employee:\n",
        "    def __init__(self, name, base_salary):\n",
        "        self.name = name\n",
        "        self.base_salary = base_salary\n",
        "\n",
        "\n",
        "    def calculate_salary(self):\n",
        "        return self.base_salary\n",
        "\n",
        "\n",
        "class Manager(Employee):\n",
        "    def __init__(self, name, base_salary, bonus):\n",
        "        super().__init__(name, base_salary)\n",
        "        self.bonus = bonus\n",
        "\n",
        "\n",
        "    def calculate_salary(self):\n",
        "        return self.base_salary + self.bonus\n",
        "\n",
        "\n",
        "class Developer(Employee):\n",
        "    def __init__(self, name, base_salary, project_bonus):\n",
        "        super().__init__(name, base_salary)\n",
        "        self.project_bonus = project_bonus\n",
        "\n",
        "\n",
        "    def calculate_salary(self):\n",
        "        return self.base_salary + self.project_bonus\n",
        "\n",
        "\n",
        "# Примеры использования\n",
        "if __name__ == \"__main__\":\n",
        "    employees = [\n",
        "        Manager(\"Иван Петров\", 50000, 10000),\n",
        "        Developer(\"Анна Смирнова\", 60000, 15000)\n",
        "    ]\n",
        "\n",
        "    for employee in employees:\n",
        "        print(f\"Сотрудник: {employee.name}, Зарплата: {employee.calculate_salary()} рублей\")"
      ],
      "metadata": {
        "id": "aexGXzqCAFH7"
      },
      "execution_count": null,
      "outputs": []
    },
    {
      "cell_type": "markdown",
      "source": [
        "# Задание 2"
      ],
      "metadata": {
        "id": "ERAi0TG5BI6v"
      }
    },
    {
      "cell_type": "markdown",
      "source": [
        "**Описание:** Создайте иерархию классов для различных типов транспортных средств (Необходим один родительский класс и 3 дочерних). Реализуйте метод, который позволяет каждому транспортному средству возвращать собственное описание (Метод в каждом классе должен иметь одинаковое название). Продемонстрируйте вызов данного метода для каждого транспортного средства.\n",
        "\n",
        "\n",
        "Отрабатываемый принцип: Полиморфизм"
      ],
      "metadata": {
        "id": "sJ3k7ZcgBK87"
      }
    },
    {
      "cell_type": "code",
      "source": [
        "class Vehicle:\n",
        "    def description(self):\n",
        "        return \"Это транспортное средство.\"\n",
        "\n",
        "\n",
        "class Car(Vehicle):\n",
        "    def __init__(self, brand, model):\n",
        "        self.brand = brand\n",
        "        self.model = model\n",
        "\n",
        "\n",
        "    def description(self):\n",
        "        return f\"Это автомобиль. Марка: {self.brand}, Модель: {self.model}\"\n",
        "\n",
        "\n",
        "class Bike(Vehicle):\n",
        "    def __init__(self, brand, type):\n",
        "        self.brand = brand\n",
        "        self.type = type\n",
        "\n",
        "\n",
        "    def description(self):\n",
        "        return f\"Это велосипед. Марка: {self.brand}, Тип: {self.type}\"\n",
        "\n",
        "\n",
        "class Truck(Vehicle):\n",
        "    def __init__(self, brand, capacity):\n",
        "        self.brand = brand\n",
        "        self.capacity = capacity\n",
        "\n",
        "\n",
        "    def description(self):\n",
        "        return f\"Это грузовик. Марка: {self.brand}, Вместимость: {self.capacity} тонн\"\n",
        "\n",
        "\n",
        "# Примеры использования\n",
        "if __name__ == \"__main__\":\n",
        "    vehicles = [\n",
        "        Car(\"Тойота\", \"Камри\"),\n",
        "        Bike(\"Ямаха\", \"Спорт\"),\n",
        "        Truck(\"Вольво\", 15)\n",
        "    ]\n",
        "\n",
        "    for vehicle in vehicles:\n",
        "        print(vehicle.description())"
      ],
      "metadata": {
        "id": "WOFOZQmDBKf4"
      },
      "execution_count": null,
      "outputs": []
    },
    {
      "cell_type": "markdown",
      "source": [
        "# Задание 3"
      ],
      "metadata": {
        "id": "7E_SJXMJBvD4"
      }
    },
    {
      "cell_type": "markdown",
      "source": [
        "Онлайн-магазин:\n",
        "- Создайте модель для онлайн-магазина с классами Product, Order, Customer, и ShoppingCart.\n",
        "- Product включает информацию о цене, наличии на складе и категории товара.\n",
        "Order обрабатывает процесс покупки, включая расчет цены с учетом скидок и налогов.\n",
        "- Customer управляет информацией о пользователе и его истории заказов.\n",
        "- ShoppingCart позволяет добавлять, удалять и обновлять количество товаров перед оформлением заказа.\n"
      ],
      "metadata": {
        "id": "dd1mwKj_BxHa"
      }
    },
    {
      "cell_type": "code",
      "source": [
        "class Product:\n",
        "    def __init__(self, name, price, stock, category):\n",
        "        self.name = name\n",
        "        self.price = price\n",
        "        self.stock = stock\n",
        "        self.category = category\n",
        "\n",
        "\n",
        "    def is_available(self, quantity):\n",
        "        return self.stock >= quantity\n",
        "\n",
        "\n",
        "    def update_stock(self, quantity):\n",
        "        self.stock -= quantity\n",
        "\n",
        "\n",
        "class Order:\n",
        "    def __init__(self, customer):\n",
        "        self.customer = customer\n",
        "        self.items = []\n",
        "        self.total_price = 0\n",
        "\n",
        "\n",
        "    def add_item(self, product, quantity):\n",
        "        if product.is_available(quantity):\n",
        "            product.update_stock(quantity)\n",
        "            self.items.append((product, quantity))\n",
        "            self.calculate_total()\n",
        "        else:\n",
        "            print(f\"Недостаточно товара '{product.name}' на складе.\")\n",
        "\n",
        "\n",
        "    def calculate_total(self, discount=0, tax_rate=0.1):\n",
        "        subtotal = sum(product.price * quantity for product, quantity in self.items)\n",
        "        discount_amount = subtotal * discount\n",
        "        tax_amount = (subtotal - discount_amount) * tax_rate\n",
        "        self.total_price = subtotal - discount_amount + tax_amount\n",
        "\n",
        "\n",
        "    def display_order(self):\n",
        "        print(f\"Заказ для клиента: {self.customer.name}\")\n",
        "        for product, quantity in self.items:\n",
        "            print(f\"Товар: {product.name}, Количество: {quantity}, Цена: {product.price} рублей\")\n",
        "        print(f\"Общая сумма заказа: {self.total_price:.2f} рублей\")\n",
        "\n",
        "\n",
        "class Customer:\n",
        "    def __init__(self, name, email):\n",
        "        self.name = name\n",
        "        self.email = email\n",
        "        self.orders = []\n",
        "\n",
        "\n",
        "    def add_order(self, order):\n",
        "        self.orders.append(order)\n",
        "\n",
        "\n",
        "class ShoppingCart:\n",
        "    def __init__(self, customer):\n",
        "        self.customer = customer\n",
        "        self.items = {}\n",
        "\n",
        "\n",
        "    def add_product(self, product, quantity):\n",
        "        if product.is_available(quantity):\n",
        "            if product in self.items:\n",
        "                self.items[product] += quantity\n",
        "            else:\n",
        "                self.items[product] = quantity\n",
        "            product.update_stock(quantity)\n",
        "            print(f\"Товар '{product.name}' добавлен в корзину.\")\n",
        "        else:\n",
        "            print(f\"Недостаточно товара '{product.name}' на складе.\")\n",
        "\n",
        "\n",
        "    def remove_product(self, product):\n",
        "        if product in self.items:\n",
        "            del self.items[product]\n",
        "            print(f\"Товар '{product.name}' удален из корзины.\")\n",
        "        else:\n",
        "            print(f\"Товар '{product.name}' не найден в корзине.\")\n",
        "\n",
        "\n",
        "    def update_quantity(self, product, quantity):\n",
        "        if product in self.items:\n",
        "            if product.is_available(quantity):\n",
        "                self.items[product] = quantity\n",
        "                print(f\"Количество товара '{product.name}' обновлено.\")\n",
        "            else:\n",
        "                print(f\"Недостаточно товара '{product.name}' на складе.\")\n",
        "        else:\n",
        "            print(f\"Товар '{product.name}' не найден в корзине.\")\n",
        "\n",
        "\n",
        "    def checkout(self, discount=0):\n",
        "        order = Order(self.customer)\n",
        "        for product, quantity in self.items.items():\n",
        "            order.add_item(product, quantity)\n",
        "        order.calculate_total(discount)\n",
        "        self.customer.add_order(order)\n",
        "        print(\"Заказ оформлен.\")\n",
        "        order.display_order()\n",
        "        self.items.clear()\n",
        "\n",
        "\n",
        "# Примеры использования\n",
        "if __name__ == \"__main__\":\n",
        "    product1 = Product(\"Ноутбук\", 60000, 10, \"Электроника\")\n",
        "    product2 = Product(\"Смартфон\", 30000, 5, \"Электроника\")\n",
        "    product3 = Product(\"Наушники\", 5000, 20, \"Аудио\")\n",
        "    customer = Customer(\"Алексей Иванов\", \"alexey@example.com\")\n",
        "    cart = ShoppingCart(customer)\n",
        "    cart.add_product(product1, 1)\n",
        "    cart.add_product(product2, 2)\n",
        "    cart.add_product(product3, 3)\n",
        "    cart.checkout(discount=0.1)"
      ],
      "metadata": {
        "id": "wkCcv_K-Bwdv",
        "colab": {
          "base_uri": "https://localhost:8080/"
        },
        "outputId": "8faad7ed-b910-42a8-d80c-bd6db856c18e"
      },
      "execution_count": null,
      "outputs": [
        {
          "output_type": "stream",
          "name": "stdout",
          "text": [
            "Товар 'Ноутбук' добавлен в корзину.\n",
            "Товар 'Смартфон' добавлен в корзину.\n",
            "Товар 'Наушники' добавлен в корзину.\n",
            "Заказ оформлен.\n",
            "Заказ для клиента: Алексей Иванов\n",
            "Товар: Ноутбук, Количество: 1, Цена: 60000 рублей\n",
            "Товар: Смартфон, Количество: 2, Цена: 30000 рублей\n",
            "Товар: Наушники, Количество: 3, Цена: 5000 рублей\n",
            "Общая сумма заказа: 133650.00 рублей\n"
          ]
        }
      ]
    },
    {
      "cell_type": "markdown",
      "source": [
        "# Задание 4"
      ],
      "metadata": {
        "id": "ih7iPlYfB7lL"
      }
    },
    {
      "cell_type": "markdown",
      "source": [
        "Симулятор космического корабля:\n",
        "- Создайте симулятор управления космическим кораблем с классами SpaceShip, CrewMember, и Mission.\n",
        "- SpaceShip имеет атрибуты для управления топливом, состоянием корпуса, и текущей скоростью.\n",
        "- CrewMember контролирует здоровье, навыки, и роли в команде (например, пилот, инженер).\n",
        "- Mission определяет цели, ресурсы, и возможные события (например, аварии, встречи с астероидами)."
      ],
      "metadata": {
        "id": "zLwqVCbpCBvc"
      }
    },
    {
      "cell_type": "code",
      "source": [
        "import random\n",
        "\n",
        "\n",
        "class SpaceShip:\n",
        "    def __init__(self, name, fuel_capacity):\n",
        "        self.name = name\n",
        "        self.fuel_capacity = fuel_capacity\n",
        "        self.current_fuel = fuel_capacity\n",
        "        self.hull_condition = 100\n",
        "        self.current_speed = 0\n",
        "\n",
        "\n",
        "    def accelerate(self, amount):\n",
        "        if self.current_fuel <= 0:\n",
        "            print(\"Недостаточно топлива для ускорения.\")\n",
        "            return\n",
        "        self.current_speed += amount\n",
        "        self.current_fuel -= amount * 0.1\n",
        "        if self.current_fuel < 0:\n",
        "            self.current_fuel = 0\n",
        "        print(f\"Корабль '{self.name}' ускорился до {self.current_speed} м/с. Топливо: {self.current_fuel:.2f} литров.\")\n",
        "\n",
        "\n",
        "    def decelerate(self, amount):\n",
        "        self.current_speed = max(0, self.current_speed - amount)\n",
        "        print(f\"Корабль '{self.name}' замедлился до {self.current_speed} м/с.\")\n",
        "\n",
        "\n",
        "    def repair_hull(self, amount):\n",
        "        self.hull_condition = min(100, self.hull_condition + amount)\n",
        "        print(f\"Состояние корпуса корабля '{self.name}' восстановлено до {self.hull_condition}%.\")\n",
        "\n",
        "\n",
        "    def status(self):\n",
        "        print(f\"Корабль '{self.name}':\")\n",
        "        print(f\"  Топливо: {self.current_fuel:.2f} литров\")\n",
        "        print(f\"  Состояние корпуса: {self.hull_condition}%\")\n",
        "        print(f\"  Текущая скорость: {self.current_speed} м/с\")\n",
        "\n",
        "\n",
        "class CrewMember:\n",
        "    def __init__(self, name, role, skills):\n",
        "        self.name = name\n",
        "        self.role = role\n",
        "        self.health = 100\n",
        "        self.skills = skills\n",
        "\n",
        "\n",
        "    def take_damage(self, amount):\n",
        "        self.health = max(0, self.health - amount)\n",
        "        print(f\"Член экипажа '{self.name}' получил урон. Здоровье: {self.health}%.\")\n",
        "\n",
        "\n",
        "    def heal(self, amount):\n",
        "        self.health = min(100, self.health + amount)\n",
        "        print(f\"Член экипажа '{self.name}' исцелился. Здоровье: {self.health}%.\")\n",
        "\n",
        "\n",
        "    def status(self):\n",
        "        print(f\"Член экипажа '{self.name}':\")\n",
        "        print(f\"  Роль: {self.role}\")\n",
        "        print(f\"  Здоровье: {self.health}%\")\n",
        "        print(f\"  Навыки: {', '.join(self.skills)}\")\n",
        "\n",
        "\n",
        "class Mission:\n",
        "    def __init__(self, name, objectives):\n",
        "        self.name = name\n",
        "        self.objectives = objectives\n",
        "        self.resources = []\n",
        "\n",
        "\n",
        "    def add_resource(self, resource):\n",
        "        self.resources.append(resource)\n",
        "        print(f\"Ресурс '{resource}' добавлен к миссии '{self.name}'.\")\n",
        "\n",
        "\n",
        "    def encounter_event(self):\n",
        "        events = [\"встреча с астероидом\", \"поломка оборудования\", \"встреча с инопланетянами\"]\n",
        "        event = random.choice(events)\n",
        "        print(f\"Во время миссии '{self.name}' произошла: {event}.\")\n",
        "\n",
        "\n",
        "    def status(self):\n",
        "        print(f\"Миссия '{self.name}':\")\n",
        "        print(f\"  Цели: {', '.join(self.objectives)}\")\n",
        "        print(f\"  Ресурсы: {', '.join(self.resources) if self.resources else 'Нет ресурсов'}\")\n",
        "\n",
        "\n",
        "# Примеры использования\n",
        "if __name__ == \"__main__\":\n",
        "    spaceship = SpaceShip(\"Звездный исследователь\", 1000)\n",
        "\n",
        "    pilot = CrewMember(\"Алексей\", \"Пилот\", [\"Управление кораблем\", \"Навигация\"])\n",
        "    engineer = CrewMember(\"Мария\", \"Инженер\", [\"Ремонт\", \"Техническое обслуживание\"])\n",
        "\n",
        "    mission = Mission(\"Исследование системы Альфа\", [\"Изучить планету\", \"Собрать образцы\"])\n",
        "\n",
        "    mission.add_resource(\"Научное оборудование\")\n",
        "    mission.add_resource(\"Запасы еды\")\n",
        "\n",
        "    spaceship.status()\n",
        "    pilot.status()\n",
        "    engineer.status()\n",
        "    mission.status()\n",
        "\n",
        "    spaceship.accelerate(50)\n",
        "    spaceship.decelerate(20)\n",
        "    spaceship.repair_hull(10)\n",
        "    mission.encounter_event()\n",
        "\n",
        "    pilot.take_damage(30)\n",
        "    engineer.heal(20)"
      ],
      "metadata": {
        "id": "4NyrOOy8B9ED"
      },
      "execution_count": null,
      "outputs": []
    },
    {
      "cell_type": "markdown",
      "source": [
        "# Дополнительно:"
      ],
      "metadata": {
        "id": "F7mRVsZjCXk0"
      }
    },
    {
      "cell_type": "markdown",
      "source": [
        "**Описание:** создайте консольную версию игры крестики-нолики, используя классы"
      ],
      "metadata": {
        "id": "X4Lkf86UCc1h"
      }
    },
    {
      "cell_type": "code",
      "source": [
        "class TicTacToe:\n",
        "    def __init__(self):\n",
        "        self.board = [' ' for _ in range(9)]  # Инициализация пустого игрового поля\n",
        "        self.current_player = 'X'  # Начинает игрок X\n",
        "\n",
        "    def display_board(self):\n",
        "        print(\"Текущая доска:\")\n",
        "        print(\"-------------\")\n",
        "        for i in range(3):\n",
        "            print(f\"| {' | '.join(self.board[i*3:(i+1)*3])} |\")\n",
        "            print(\"--------------\")\n",
        "\n",
        "    def make_move(self, position):\n",
        "        if self.board[position] == ' ':\n",
        "            self.board[position] = self.current_player\n",
        "        else:\n",
        "            print(\"Эта клетка уже занята! Попробуйте снова.\")\n",
        "            return False\n",
        "        return True\n",
        "\n",
        "    def check_winner(self):\n",
        "        winning_combinations = [\n",
        "            (0, 1, 2), (3, 4, 5), (6, 7, 8),\n",
        "            (0, 3, 6), (1, 4, 7), (2, 5, 8),\n",
        "            (0, 4, 8), (2, 4, 6)\n",
        "        ]\n",
        "        for combo in winning_combinations:\n",
        "            if self.board[combo[0]] == self.board[combo[1]] == self.board[combo[2]] != ' ':\n",
        "                return self.board[combo[0]]\n",
        "        return None\n",
        "\n",
        "    def check_draw(self):\n",
        "        return ' ' not in self.board\n",
        "\n",
        "    def switch_player(self):\n",
        "        self.current_player = 'O' if self.current_player == 'X' else 'X'\n",
        "\n",
        "    def play_game(self):\n",
        "        while True:\n",
        "            self.display_board()\n",
        "            try:\n",
        "                position = int(input(f\"Игрок {self.current_player}, введите номер клетки (0-8): \"))\n",
        "                if position < 0 or position > 8:\n",
        "                    print(\"Неверный ввод! Введите число от 0 до 8.\")\n",
        "                    continue\n",
        "            except ValueError:\n",
        "                print(\"Пожалуйста, введите целое число.\")\n",
        "                continue\n",
        "\n",
        "            if self.make_move(position):\n",
        "                if winner := self.check_winner():\n",
        "                    self.display_board()\n",
        "                    print(f\"Поздравляем, игрок {winner} выиграл!\")\n",
        "                    break\n",
        "                if self.check_draw():\n",
        "                    self.display_board()\n",
        "                    print(\"Ничья!\")\n",
        "                    break\n",
        "                self.switch_player()\n",
        "\n",
        "\n",
        "if __name__ == \"__main__\":\n",
        "    game = TicTacToe()\n",
        "    game.play_game()"
      ],
      "metadata": {
        "id": "x9OxpNsyCcUo",
        "colab": {
          "base_uri": "https://localhost:8080/",
          "height": 460
        },
        "outputId": "ca5e60b4-4eb6-4227-9f9d-4b7c23a69b3a"
      },
      "execution_count": null,
      "outputs": [
        {
          "output_type": "stream",
          "name": "stdout",
          "text": [
            "Текущая доска:\n",
            "-------------\n",
            "|   |   |   |\n",
            "--------------\n",
            "|   |   |   |\n",
            "--------------\n",
            "|   |   |   |\n",
            "--------------\n"
          ]
        },
        {
          "output_type": "error",
          "ename": "KeyboardInterrupt",
          "evalue": "Interrupted by user",
          "traceback": [
            "\u001b[0;31m---------------------------------------------------------------------------\u001b[0m",
            "\u001b[0;31mKeyboardInterrupt\u001b[0m                         Traceback (most recent call last)",
            "\u001b[0;32m<ipython-input-5-75c600f8c2ff>\u001b[0m in \u001b[0;36m<cell line: 62>\u001b[0;34m()\u001b[0m\n\u001b[1;32m     62\u001b[0m \u001b[0;32mif\u001b[0m \u001b[0m__name__\u001b[0m \u001b[0;34m==\u001b[0m \u001b[0;34m\"__main__\"\u001b[0m\u001b[0;34m:\u001b[0m\u001b[0;34m\u001b[0m\u001b[0;34m\u001b[0m\u001b[0m\n\u001b[1;32m     63\u001b[0m     \u001b[0mgame\u001b[0m \u001b[0;34m=\u001b[0m \u001b[0mTicTacToe\u001b[0m\u001b[0;34m(\u001b[0m\u001b[0;34m)\u001b[0m\u001b[0;34m\u001b[0m\u001b[0;34m\u001b[0m\u001b[0m\n\u001b[0;32m---> 64\u001b[0;31m     \u001b[0mgame\u001b[0m\u001b[0;34m.\u001b[0m\u001b[0mplay_game\u001b[0m\u001b[0;34m(\u001b[0m\u001b[0;34m)\u001b[0m\u001b[0;34m\u001b[0m\u001b[0;34m\u001b[0m\u001b[0m\n\u001b[0m",
            "\u001b[0;32m<ipython-input-5-75c600f8c2ff>\u001b[0m in \u001b[0;36mplay_game\u001b[0;34m(self)\u001b[0m\n\u001b[1;32m     40\u001b[0m             \u001b[0mself\u001b[0m\u001b[0;34m.\u001b[0m\u001b[0mdisplay_board\u001b[0m\u001b[0;34m(\u001b[0m\u001b[0;34m)\u001b[0m\u001b[0;34m\u001b[0m\u001b[0;34m\u001b[0m\u001b[0m\n\u001b[1;32m     41\u001b[0m             \u001b[0;32mtry\u001b[0m\u001b[0;34m:\u001b[0m\u001b[0;34m\u001b[0m\u001b[0;34m\u001b[0m\u001b[0m\n\u001b[0;32m---> 42\u001b[0;31m                 \u001b[0mposition\u001b[0m \u001b[0;34m=\u001b[0m \u001b[0mint\u001b[0m\u001b[0;34m(\u001b[0m\u001b[0minput\u001b[0m\u001b[0;34m(\u001b[0m\u001b[0;34mf\"Игрок {self.current_player}, введите номер клетки (0-8): \"\u001b[0m\u001b[0;34m)\u001b[0m\u001b[0;34m)\u001b[0m\u001b[0;34m\u001b[0m\u001b[0;34m\u001b[0m\u001b[0m\n\u001b[0m\u001b[1;32m     43\u001b[0m                 \u001b[0;32mif\u001b[0m \u001b[0mposition\u001b[0m \u001b[0;34m<\u001b[0m \u001b[0;36m0\u001b[0m \u001b[0;32mor\u001b[0m \u001b[0mposition\u001b[0m \u001b[0;34m>\u001b[0m \u001b[0;36m8\u001b[0m\u001b[0;34m:\u001b[0m\u001b[0;34m\u001b[0m\u001b[0;34m\u001b[0m\u001b[0m\n\u001b[1;32m     44\u001b[0m                     \u001b[0mprint\u001b[0m\u001b[0;34m(\u001b[0m\u001b[0;34m\"Неверный ввод! Введите число от 0 до 8.\"\u001b[0m\u001b[0;34m)\u001b[0m\u001b[0;34m\u001b[0m\u001b[0;34m\u001b[0m\u001b[0m\n",
            "\u001b[0;32m/usr/local/lib/python3.10/dist-packages/ipykernel/kernelbase.py\u001b[0m in \u001b[0;36mraw_input\u001b[0;34m(self, prompt)\u001b[0m\n\u001b[1;32m    849\u001b[0m                 \u001b[0;34m\"raw_input was called, but this frontend does not support input requests.\"\u001b[0m\u001b[0;34m\u001b[0m\u001b[0;34m\u001b[0m\u001b[0m\n\u001b[1;32m    850\u001b[0m             )\n\u001b[0;32m--> 851\u001b[0;31m         return self._input_request(str(prompt),\n\u001b[0m\u001b[1;32m    852\u001b[0m             \u001b[0mself\u001b[0m\u001b[0;34m.\u001b[0m\u001b[0m_parent_ident\u001b[0m\u001b[0;34m,\u001b[0m\u001b[0;34m\u001b[0m\u001b[0;34m\u001b[0m\u001b[0m\n\u001b[1;32m    853\u001b[0m             \u001b[0mself\u001b[0m\u001b[0;34m.\u001b[0m\u001b[0m_parent_header\u001b[0m\u001b[0;34m,\u001b[0m\u001b[0;34m\u001b[0m\u001b[0;34m\u001b[0m\u001b[0m\n",
            "\u001b[0;32m/usr/local/lib/python3.10/dist-packages/ipykernel/kernelbase.py\u001b[0m in \u001b[0;36m_input_request\u001b[0;34m(self, prompt, ident, parent, password)\u001b[0m\n\u001b[1;32m    893\u001b[0m             \u001b[0;32mexcept\u001b[0m \u001b[0mKeyboardInterrupt\u001b[0m\u001b[0;34m:\u001b[0m\u001b[0;34m\u001b[0m\u001b[0;34m\u001b[0m\u001b[0m\n\u001b[1;32m    894\u001b[0m                 \u001b[0;31m# re-raise KeyboardInterrupt, to truncate traceback\u001b[0m\u001b[0;34m\u001b[0m\u001b[0;34m\u001b[0m\u001b[0m\n\u001b[0;32m--> 895\u001b[0;31m                 \u001b[0;32mraise\u001b[0m \u001b[0mKeyboardInterrupt\u001b[0m\u001b[0;34m(\u001b[0m\u001b[0;34m\"Interrupted by user\"\u001b[0m\u001b[0;34m)\u001b[0m \u001b[0;32mfrom\u001b[0m \u001b[0;32mNone\u001b[0m\u001b[0;34m\u001b[0m\u001b[0;34m\u001b[0m\u001b[0m\n\u001b[0m\u001b[1;32m    896\u001b[0m             \u001b[0;32mexcept\u001b[0m \u001b[0mException\u001b[0m \u001b[0;32mas\u001b[0m \u001b[0me\u001b[0m\u001b[0;34m:\u001b[0m\u001b[0;34m\u001b[0m\u001b[0;34m\u001b[0m\u001b[0m\n\u001b[1;32m    897\u001b[0m                 \u001b[0mself\u001b[0m\u001b[0;34m.\u001b[0m\u001b[0mlog\u001b[0m\u001b[0;34m.\u001b[0m\u001b[0mwarning\u001b[0m\u001b[0;34m(\u001b[0m\u001b[0;34m\"Invalid Message:\"\u001b[0m\u001b[0;34m,\u001b[0m \u001b[0mexc_info\u001b[0m\u001b[0;34m=\u001b[0m\u001b[0;32mTrue\u001b[0m\u001b[0;34m)\u001b[0m\u001b[0;34m\u001b[0m\u001b[0;34m\u001b[0m\u001b[0m\n",
            "\u001b[0;31mKeyboardInterrupt\u001b[0m: Interrupted by user"
          ]
        }
      ]
    }
  ]
}