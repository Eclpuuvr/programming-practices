{
  "nbformat": 4,
  "nbformat_minor": 0,
  "metadata": {
    "colab": {
      "provenance": []
    },
    "kernelspec": {
      "name": "python3",
      "display_name": "Python 3"
    },
    "language_info": {
      "name": "python"
    }
  },
  "cells": [
    {
      "cell_type": "markdown",
      "source": [
        "ФИО"
      ],
      "metadata": {
        "id": "8hJfL9b2l439"
      }
    },
    {
      "cell_type": "code",
      "source": [
        "print('Кириловских Валерия Вадимовна')"
      ],
      "metadata": {
        "id": "wRnqvYOkl6EX"
      },
      "execution_count": null,
      "outputs": []
    },
    {
      "cell_type": "markdown",
      "source": [
        "# Дисклеймер"
      ],
      "metadata": {
        "id": "weOtPwPQmgpD"
      }
    },
    {
      "cell_type": "markdown",
      "source": [
        "В данной практике вам необходимо применить все ваши знания по темам:\n",
        "\n",
        "- Функции\n",
        "- Словари\n",
        "- Списки\n",
        "- Множества\n",
        "- Условные конструкции\n",
        "- Запросы\n",
        "\n",
        "и все что было изучено на прошлых практических занятиях\n",
        "\n",
        "В каждом задании кратко описаны функции, которые необходимо реализовать, детали реализации вы должны продумать самостоятельно"
      ],
      "metadata": {
        "id": "LznB3uscmjDa"
      }
    },
    {
      "cell_type": "markdown",
      "source": [
        "# Задание 0"
      ],
      "metadata": {
        "id": "7nSJIqkTvC_C"
      }
    },
    {
      "cell_type": "markdown",
      "source": [
        "Создайте функцию по нахождению уникальных элементов из двух списков\n",
        "\n",
        "\n",
        "\n",
        "```\n",
        "a = [1, 2, 3, 4]\n",
        "b = [3, 4, 5, 6]\n",
        "```\n",
        "\n"
      ],
      "metadata": {
        "id": "exACjTiVvGUe"
      }
    },
    {
      "cell_type": "code",
      "source": [
        "def elements(a,b):\n",
        "  res=[]\n",
        "  for x in b:\n",
        "    a.append(x)\n",
        "  for k in a:\n",
        "    if k not in res:\n",
        "      res.append(k)\n",
        "  return res\n",
        "\n",
        "\n",
        "a = [1, 2, 3, 4]\n",
        "b = [3, 4, 5, 6]\n",
        "print(elements(a,b))"
      ],
      "metadata": {
        "id": "dQheNSYd4nd2",
        "colab": {
          "base_uri": "https://localhost:8080/"
        },
        "outputId": "8c982067-0d91-42ca-e5e4-7cbc18a202f0"
      },
      "execution_count": null,
      "outputs": [
        {
          "output_type": "stream",
          "name": "stdout",
          "text": [
            "[1, 2, 3, 4, 5, 6]\n"
          ]
        }
      ]
    },
    {
      "cell_type": "markdown",
      "source": [
        "# Задание 1"
      ],
      "metadata": {
        "id": "SVWNlBALpCNo"
      }
    },
    {
      "cell_type": "markdown",
      "source": [
        "Симулятор виртуального питомца\n",
        "\n",
        "Цель: создать виртуальный симулятор домашних животных, в котором пользователи смогут заводить питомцев и ухаживать за ними.\n",
        "\n",
        "Требования:\n",
        "\n",
        "- Функция для усыновления питомца (имя, тип, возраст).\n",
        "- Функция для того, чтобы покормить питомца, поиграть с ним или уложить его спать.\n",
        "- Функция для отображения состояния питомца (голод, радость, энергия)."
      ],
      "metadata": {
        "id": "RcKA-VEqpC7f"
      }
    },
    {
      "cell_type": "code",
      "source": [
        "def adopt_pet():\n",
        "    name = input(\"Введите имя вашего питомца: \")\n",
        "    pet_type = input(\"Введите тип питомца (собака, кошка и т.д.): \")\n",
        "    age = int(input(\"Введите возраст питомца: \"))\n",
        "    return {\n",
        "        \"name\": name,\n",
        "        \"type\": pet_type,\n",
        "        \"age\": age,\n",
        "        \"hunger\": 100,  # 0 - голодный, 100 - сытый\n",
        "        \"happiness\": 100,  # 0 - несчастный, 100 - счастливый\n",
        "        \"energy\": 100  # 0 - уставший, 100 - энергичный\n",
        "    }\n",
        "\n",
        "\n",
        "def feed(pet):\n",
        "    if pet[\"hunger\"] < 100:\n",
        "        pet[\"hunger\"] += 20\n",
        "        print(f\"{pet['name']} был накормлен! Уровень голода: {pet['hunger']}\")\n",
        "    else:\n",
        "        print(f\"{pet['name']} не голоден!\")\n",
        "\n",
        "\n",
        "def play(pet):\n",
        "    if pet[\"energy\"] > 10:\n",
        "        pet[\"happiness\"] += 20\n",
        "        pet[\"energy\"] -= 10\n",
        "        print(f\"{pet['name']} играл и стал счастливее! Уровень счастья: {pet['happiness']}, энергия: {pet['energy']}\")\n",
        "    else:\n",
        "        print(f\"{pet['name']} слишком устал, чтобы играть!\")\n",
        "\n",
        "\n",
        "def sleep(pet):\n",
        "    pet[\"energy\"] = 100\n",
        "    print(f\"{pet['name']} уснул и восстановил энергию!\")\n",
        "\n",
        "\n",
        "def display_status(pet):\n",
        "    print(f\"Состояние {pet['name']}:\")\n",
        "    print(f\"Тип: {pet['type']}, Возраст: {pet['age']} лет\")\n",
        "    print(f\"Голод: {pet['hunger']}, Счастье: {pet['happiness']}, Энергия: {pet['energy']}\")\n",
        "\n",
        "\n",
        "def main():\n",
        "    print(\"Добро пожаловать в симулятор виртуального питомца!\")\n",
        "    pet = adopt_pet()\n",
        "\n",
        "    while True:\n",
        "        print(\"Что вы хотите сделать?\")\n",
        "        print(\"1. Покормить питомца\")\n",
        "        print(\"2. Поиграть с питомцем\")\n",
        "        print(\"3. Уложить питомца спать\")\n",
        "        print(\"4. Посмотреть состояние питомца\")\n",
        "        print(\"5. Выйти\")\n",
        "\n",
        "        choice = input(\"Выберите действие (1-5): \")\n",
        "\n",
        "        if choice == '1':\n",
        "            feed(pet)\n",
        "        elif choice == '2':\n",
        "            play(pet)\n",
        "        elif choice == '3':\n",
        "            sleep(pet)\n",
        "        elif choice == '4':\n",
        "            display_status(pet)\n",
        "        elif choice == '5':\n",
        "            print(\"Спасибо за игру!\")\n",
        "            break\n",
        "        else:\n",
        "            print(\"Неверный выбор, попробуйте снова.\")\n",
        "\n",
        "\n",
        "if __name__ == \"__main__\":\n",
        "    main()"
      ],
      "metadata": {
        "id": "hE7mF-HXpJLO",
        "colab": {
          "base_uri": "https://localhost:8080/",
          "height": 634
        },
        "outputId": "d6d1eccb-a6d0-4415-9e40-2a6af33c6b28"
      },
      "execution_count": null,
      "outputs": [
        {
          "metadata": {
            "tags": null
          },
          "name": "stdout",
          "output_type": "stream",
          "text": [
            "Добро пожаловать в симулятор виртуального питомца!\n",
            "\n",
            "Что вы хотите сделать?\n",
            "1. Покормить питомца\n",
            "2. Поиграть с питомцем\n",
            "3. Уложить питомца спать\n",
            "4. Посмотреть состояние питомца\n",
            "5. Выйти\n",
            "Состояние Петя:\n",
            "Тип: Кошка, Возраст: 2 лет\n",
            "Голод: 100, Счастье: 100, Энергия: 100\n",
            "\n",
            "Что вы хотите сделать?\n",
            "1. Покормить питомца\n",
            "2. Поиграть с питомцем\n",
            "3. Уложить питомца спать\n",
            "4. Посмотреть состояние питомца\n",
            "5. Выйти\n"
          ]
        },
        {
          "output_type": "error",
          "ename": "KeyboardInterrupt",
          "evalue": "Interrupted by user",
          "traceback": [
            "\u001b[0;31m---------------------------------------------------------------------------\u001b[0m",
            "\u001b[0;31mKeyboardInterrupt\u001b[0m                         Traceback (most recent call last)",
            "\u001b[0;32m<ipython-input-1-6fe27573dbc6>\u001b[0m in \u001b[0;36m<cell line: 71>\u001b[0;34m()\u001b[0m\n\u001b[1;32m     70\u001b[0m \u001b[0;34m\u001b[0m\u001b[0m\n\u001b[1;32m     71\u001b[0m \u001b[0;32mif\u001b[0m \u001b[0m__name__\u001b[0m \u001b[0;34m==\u001b[0m \u001b[0;34m\"__main__\"\u001b[0m\u001b[0;34m:\u001b[0m\u001b[0;34m\u001b[0m\u001b[0;34m\u001b[0m\u001b[0m\n\u001b[0;32m---> 72\u001b[0;31m     \u001b[0mmain\u001b[0m\u001b[0;34m(\u001b[0m\u001b[0;34m)\u001b[0m\u001b[0;34m\u001b[0m\u001b[0;34m\u001b[0m\u001b[0m\n\u001b[0m",
            "\u001b[0;32m<ipython-input-1-6fe27573dbc6>\u001b[0m in \u001b[0;36mmain\u001b[0;34m()\u001b[0m\n\u001b[1;32m     52\u001b[0m         \u001b[0mprint\u001b[0m\u001b[0;34m(\u001b[0m\u001b[0;34m\"5. Выйти\"\u001b[0m\u001b[0;34m)\u001b[0m\u001b[0;34m\u001b[0m\u001b[0;34m\u001b[0m\u001b[0m\n\u001b[1;32m     53\u001b[0m \u001b[0;34m\u001b[0m\u001b[0m\n\u001b[0;32m---> 54\u001b[0;31m         \u001b[0mchoice\u001b[0m \u001b[0;34m=\u001b[0m \u001b[0minput\u001b[0m\u001b[0;34m(\u001b[0m\u001b[0;34m\"Выберите действие (1-5): \"\u001b[0m\u001b[0;34m)\u001b[0m\u001b[0;34m\u001b[0m\u001b[0;34m\u001b[0m\u001b[0m\n\u001b[0m\u001b[1;32m     55\u001b[0m \u001b[0;34m\u001b[0m\u001b[0m\n\u001b[1;32m     56\u001b[0m         \u001b[0;32mif\u001b[0m \u001b[0mchoice\u001b[0m \u001b[0;34m==\u001b[0m \u001b[0;34m'1'\u001b[0m\u001b[0;34m:\u001b[0m\u001b[0;34m\u001b[0m\u001b[0;34m\u001b[0m\u001b[0m\n",
            "\u001b[0;32m/usr/local/lib/python3.10/dist-packages/ipykernel/kernelbase.py\u001b[0m in \u001b[0;36mraw_input\u001b[0;34m(self, prompt)\u001b[0m\n\u001b[1;32m    849\u001b[0m                 \u001b[0;34m\"raw_input was called, but this frontend does not support input requests.\"\u001b[0m\u001b[0;34m\u001b[0m\u001b[0;34m\u001b[0m\u001b[0m\n\u001b[1;32m    850\u001b[0m             )\n\u001b[0;32m--> 851\u001b[0;31m         return self._input_request(str(prompt),\n\u001b[0m\u001b[1;32m    852\u001b[0m             \u001b[0mself\u001b[0m\u001b[0;34m.\u001b[0m\u001b[0m_parent_ident\u001b[0m\u001b[0;34m,\u001b[0m\u001b[0;34m\u001b[0m\u001b[0;34m\u001b[0m\u001b[0m\n\u001b[1;32m    853\u001b[0m             \u001b[0mself\u001b[0m\u001b[0;34m.\u001b[0m\u001b[0m_parent_header\u001b[0m\u001b[0;34m,\u001b[0m\u001b[0;34m\u001b[0m\u001b[0;34m\u001b[0m\u001b[0m\n",
            "\u001b[0;32m/usr/local/lib/python3.10/dist-packages/ipykernel/kernelbase.py\u001b[0m in \u001b[0;36m_input_request\u001b[0;34m(self, prompt, ident, parent, password)\u001b[0m\n\u001b[1;32m    893\u001b[0m             \u001b[0;32mexcept\u001b[0m \u001b[0mKeyboardInterrupt\u001b[0m\u001b[0;34m:\u001b[0m\u001b[0;34m\u001b[0m\u001b[0;34m\u001b[0m\u001b[0m\n\u001b[1;32m    894\u001b[0m                 \u001b[0;31m# re-raise KeyboardInterrupt, to truncate traceback\u001b[0m\u001b[0;34m\u001b[0m\u001b[0;34m\u001b[0m\u001b[0m\n\u001b[0;32m--> 895\u001b[0;31m                 \u001b[0;32mraise\u001b[0m \u001b[0mKeyboardInterrupt\u001b[0m\u001b[0;34m(\u001b[0m\u001b[0;34m\"Interrupted by user\"\u001b[0m\u001b[0;34m)\u001b[0m \u001b[0;32mfrom\u001b[0m \u001b[0;32mNone\u001b[0m\u001b[0;34m\u001b[0m\u001b[0;34m\u001b[0m\u001b[0m\n\u001b[0m\u001b[1;32m    896\u001b[0m             \u001b[0;32mexcept\u001b[0m \u001b[0mException\u001b[0m \u001b[0;32mas\u001b[0m \u001b[0me\u001b[0m\u001b[0;34m:\u001b[0m\u001b[0;34m\u001b[0m\u001b[0;34m\u001b[0m\u001b[0m\n\u001b[1;32m    897\u001b[0m                 \u001b[0mself\u001b[0m\u001b[0;34m.\u001b[0m\u001b[0mlog\u001b[0m\u001b[0;34m.\u001b[0m\u001b[0mwarning\u001b[0m\u001b[0;34m(\u001b[0m\u001b[0;34m\"Invalid Message:\"\u001b[0m\u001b[0;34m,\u001b[0m \u001b[0mexc_info\u001b[0m\u001b[0;34m=\u001b[0m\u001b[0;32mTrue\u001b[0m\u001b[0;34m)\u001b[0m\u001b[0;34m\u001b[0m\u001b[0;34m\u001b[0m\u001b[0m\n",
            "\u001b[0;31mKeyboardInterrupt\u001b[0m: Interrupted by user"
          ]
        }
      ]
    },
    {
      "cell_type": "markdown",
      "source": [
        "# Задание 2"
      ],
      "metadata": {
        "id": "qZ7qFQnmssNd"
      }
    },
    {
      "cell_type": "markdown",
      "source": [
        "Рыцарь и дракон\n",
        "\n",
        "Цель: создать небольшую игру, в которой вам необходимо играть за рыцаря и сразиться с драконом\n",
        "\n",
        "Требования:\n",
        "\n",
        "- Создание персонажа (имя, информация о доспехах, оружии, урон, здоровье)\n",
        "- Управление персонажем и мини сюжет\n",
        "- Создание дракона (Имя, информация о здоровье и уроне)\n",
        "- Боевая система (нанесение и получение урона, урон должен быть случайным в заданном диапазоне)\n",
        "- Реализовать бой между драконом и рыцарем"
      ],
      "metadata": {
        "id": "UaccTe7ltNvg"
      }
    },
    {
      "cell_type": "code",
      "source": [
        "import random\n",
        "\n",
        "\n",
        "\n",
        "def create_knight():\n",
        "    name = input(\"Введите имя вашего рыцаря: \")\n",
        "    armor = input(\"Введите информацию о доспехах: \")\n",
        "    weapon = input(\"Введите название оружия: \")\n",
        "    damage = random.randint(10, 20)\n",
        "    health = 100\n",
        "    return {\n",
        "        \"name\": name,\n",
        "        \"armor\": armor,\n",
        "        \"weapon\": weapon,\n",
        "        \"damage\": damage,\n",
        "        \"health\": health\n",
        "    }\n",
        "\n",
        "\n",
        "def create_dragon():\n",
        "    name = \"Дракон\"\n",
        "    health = 80\n",
        "    damage = random.randint(5, 15)\n",
        "    return {\n",
        "        \"name\": name,\n",
        "        \"health\": health,\n",
        "        \"damage\": damage\n",
        "    }\n",
        "\n",
        "\n",
        "def battle(knight, dragon):\n",
        "    print(f\"Начинается бой между {knight['name']} и {dragon['name']}!\")\n",
        "\n",
        "    while knight[\"health\"] > 0 and dragon[\"health\"] > 0:\n",
        "        print(\"Выберите действие:\")\n",
        "        print(\"1. Атаковать\")\n",
        "        print(\"2. Защититься\")\n",
        "        print(\"3. Использовать предмет (восстановить здоровье)\")\n",
        "        action = input(\"Выберите действие (1-3): \")\n",
        "\n",
        "        if action == '1':\n",
        "            dragon_damage = random.randint(0, knight[\"damage\"])\n",
        "            dragon[\"health\"] -= dragon_damage\n",
        "            print(f\"{knight['name']} наносит {dragon_damage} урона {dragon['name']}! Здоровье дракона: {dragon['health']}\")\n",
        "\n",
        "            if dragon[\"health\"] <= 0:\n",
        "                print(f\"{dragon['name']} повержен! {knight['name']} победил!\")\n",
        "                break\n",
        "\n",
        "        elif action == '2':\n",
        "            print(f\"{knight['name']} готовится к защите!\")\n",
        "            knight_damage = random.randint(0, dragon[\"damage\"] // 2)\n",
        "            knight[\"health\"] -= knight_damage\n",
        "            print(f\"{dragon['name']} наносит {knight_damage} урона {knight['name']}! Здоровье рыцаря: {knight['health']}\")\n",
        "\n",
        "        elif action == '3':\n",
        "            heal_amount = random.randint(10, 30)\n",
        "            knight[\"health\"] += heal_amount\n",
        "            print(f\"{knight['name']} использует предмет и восстанавливает {heal_amount} здоровья! Здоровье рыцаря: {knight['health']}\")\n",
        "\n",
        "        else:\n",
        "            print(\"Неверный выбор, попробуйте снова.\")\n",
        "            continue\n",
        "\n",
        "        if action != '2':\n",
        "            knight_damage = random.randint(0, dragon[\"damage\"])\n",
        "            knight[\"health\"] -= knight_damage\n",
        "            print(f\"{dragon['name']} наносит {knight_damage} урона {knight['name']}! Здоровье рыцаря: {knight['health']}\")\n",
        "\n",
        "        if knight[\"health\"] <= 0:\n",
        "            print(f\"{knight['name']} пал в бою! {dragon['name']} победил!\")\n",
        "            break\n",
        "\n",
        "\n",
        "def main():\n",
        "    print(\"Добро пожаловать в игру 'Рыцарь и дракон'!\")\n",
        "\n",
        "    knight = create_knight()\n",
        "    dragon = create_dragon()\n",
        "\n",
        "    battle(knight, dragon)\n",
        "\n",
        "\n",
        "if __name__ == \"__main__\":\n",
        "    main()"
      ],
      "metadata": {
        "id": "LCcxp5Q0srjY",
        "colab": {
          "base_uri": "https://localhost:8080/"
        },
        "outputId": "483a21da-729f-4317-8bef-b1d5ba95e267"
      },
      "execution_count": null,
      "outputs": [
        {
          "output_type": "stream",
          "name": "stdout",
          "text": [
            "Добро пожаловать в игру 'Рыцарь и дракон'!\n",
            "Введите имя вашего рыцаря: Павел\n",
            "Введите информацию о доспехах: 70\n",
            "Введите название оружия: Меч\n",
            "\n",
            "Начинается бой между Павел и Дракон!\n",
            "\n",
            "Выберите действие:\n",
            "1. Атаковать\n",
            "2. Защититься\n",
            "3. Использовать предмет (восстановить здоровье)\n",
            "Выберите действие (1-3): 1\n",
            "Павел наносит 4 урона Дракон! Здоровье дракона: 76\n",
            "Дракон наносит 2 урона Павел! Здоровье рыцаря: 98\n",
            "\n",
            "Выберите действие:\n",
            "1. Атаковать\n",
            "2. Защититься\n",
            "3. Использовать предмет (восстановить здоровье)\n",
            "Выберите действие (1-3): 1\n",
            "Павел наносит 6 урона Дракон! Здоровье дракона: 70\n",
            "Дракон наносит 2 урона Павел! Здоровье рыцаря: 96\n",
            "\n",
            "Выберите действие:\n",
            "1. Атаковать\n",
            "2. Защититься\n",
            "3. Использовать предмет (восстановить здоровье)\n",
            "Выберите действие (1-3): 1\n",
            "Павел наносит 9 урона Дракон! Здоровье дракона: 61\n",
            "Дракон наносит 1 урона Павел! Здоровье рыцаря: 95\n",
            "\n",
            "Выберите действие:\n",
            "1. Атаковать\n",
            "2. Защититься\n",
            "3. Использовать предмет (восстановить здоровье)\n",
            "Выберите действие (1-3): 1\n",
            "Павел наносит 12 урона Дракон! Здоровье дракона: 49\n",
            "Дракон наносит 5 урона Павел! Здоровье рыцаря: 90\n",
            "\n",
            "Выберите действие:\n",
            "1. Атаковать\n",
            "2. Защититься\n",
            "3. Использовать предмет (восстановить здоровье)\n",
            "Выберите действие (1-3): 1\n",
            "Павел наносит 4 урона Дракон! Здоровье дракона: 45\n",
            "Дракон наносит 6 урона Павел! Здоровье рыцаря: 84\n",
            "\n",
            "Выберите действие:\n",
            "1. Атаковать\n",
            "2. Защититься\n",
            "3. Использовать предмет (восстановить здоровье)\n",
            "Выберите действие (1-3): 1\n",
            "Павел наносит 11 урона Дракон! Здоровье дракона: 34\n",
            "Дракон наносит 2 урона Павел! Здоровье рыцаря: 82\n",
            "\n",
            "Выберите действие:\n",
            "1. Атаковать\n",
            "2. Защититься\n",
            "3. Использовать предмет (восстановить здоровье)\n",
            "Выберите действие (1-3): 1\n",
            "Павел наносит 2 урона Дракон! Здоровье дракона: 32\n",
            "Дракон наносит 7 урона Павел! Здоровье рыцаря: 75\n",
            "\n",
            "Выберите действие:\n",
            "1. Атаковать\n",
            "2. Защититься\n",
            "3. Использовать предмет (восстановить здоровье)\n",
            "Выберите действие (1-3): 1\n",
            "Павел наносит 12 урона Дракон! Здоровье дракона: 20\n",
            "Дракон наносит 3 урона Павел! Здоровье рыцаря: 72\n",
            "\n",
            "Выберите действие:\n",
            "1. Атаковать\n",
            "2. Защититься\n",
            "3. Использовать предмет (восстановить здоровье)\n"
          ]
        }
      ]
    },
    {
      "cell_type": "markdown",
      "source": [
        "# Задание 3\n"
      ],
      "metadata": {
        "id": "N8oFiEXol3e2"
      }
    },
    {
      "cell_type": "markdown",
      "source": [
        "Цель - создать менеджера команды Pokémon, который позволит пользователям:\n",
        "\n",
        "- Добавлять покемонов в свою команду. (если такого покемона еще нет в команде)\n",
        "- Удалять покемонов из их команды.\n",
        "- Просматривать подробную информацию обо всех покемонах в команде.\n",
        "- Находить покемона по имени.\n",
        "- Устраивать тренировочный бой между двумя покемонами\n",
        "\n",
        "Для данной задачи используйте: https://pokeapi.co/\n"
      ],
      "metadata": {
        "id": "9p4WQG_Vl7wB"
      }
    },
    {
      "cell_type": "code",
      "source": [
        "import requests\n",
        "\n",
        "\n",
        "def fetch_pokemon_data(name):\n",
        "    url = f'https://pokeapi.co/api/v2/pokemon/{name.lower()}'\n",
        "    response = requests.get(url)\n",
        "    if response.status_code == 200:\n",
        "        return response.json()\n",
        "    else:\n",
        "        return None\n",
        "\n",
        "\n",
        "def add_pokemon(team, name):\n",
        "    if name in team:\n",
        "        print(f\"Покемон {name} уже в команде.\")\n",
        "    else:\n",
        "        data = fetch_pokemon_data(name)\n",
        "        if data:\n",
        "            team[name] = {\n",
        "                'name': data['name'],\n",
        "                'height': data['height'],\n",
        "                'weight': data['weight'],\n",
        "                'base_experience': data['base_experience']\n",
        "            }\n",
        "            print(f\"Покемон {name} добавлен в команду.\")\n",
        "        else:\n",
        "            print(f\"Покемон {name} не найден.\")\n",
        "\n",
        "\n",
        "def remove_pokemon(team, name):\n",
        "    if name in team:\n",
        "        del team[name]\n",
        "        print(f\"Покемон {name} удален из команды.\")\n",
        "    else:\n",
        "        print(f\"Покемон {name} не найден в команде.\")\n",
        "\n",
        "\n",
        "def view_team(team):\n",
        "    if not team:\n",
        "        print(\"Ваша команда пуста.\")\n",
        "    else:\n",
        "        for name, info in team.items():\n",
        "            print(f\"Имя: {info['name']}, Рост: {info['height']}, Вес: {info['weight']}, Базовый опыт: {info['base_experience']}\")\n",
        "\n",
        "\n",
        "def find_pokemon(team, name):\n",
        "    if name in team:\n",
        "        info = team[name]\n",
        "        print(f\"Имя: {info['name']}, Рост: {info['height']}, Вес: {info['weight']}, Базовый опыт: {info['base_experience']}\")\n",
        "    else:\n",
        "        print(f\"Покемон {name} не найден в команде.\")\n",
        "\n",
        "\n",
        "def battle(pokemon1, pokemon2):\n",
        "    health1 = pokemon1['base_experience']\n",
        "    health2 = pokemon2['base_experience']\n",
        "    print(f\"Бой между {pokemon1['name']} и {pokemon2['name']} начинается!\")\n",
        "\n",
        "    while health1 > 0 and health2 > 0:\n",
        "        health1 -= 10\n",
        "        health2 -= 10\n",
        "        print(f\"{pokemon1['name']} HP: {max(health1, 0)}, {pokemon2['name']} HP: {max(health2, 0)}\")\n",
        "\n",
        "    if health1 > health2:\n",
        "        print(f\"Победитель: {pokemon1['name']}\")\n",
        "    elif health2 > health1:\n",
        "        print(f\"Победитель: {pokemon2['name']}\")\n",
        "    else:\n",
        "        print(\"Ничья!\")\n",
        "\n",
        "\n",
        "def main():\n",
        "    team = {}\n",
        "\n",
        "    while True:\n",
        "        action = input(\"Выберите действие: добавление (add), удаление (remove), просмотр (view), поиск (find), бой (battle), выход (exit): \").strip().lower()\n",
        "\n",
        "        if action == 'add':\n",
        "            name = input(\"Введите имя покемона для добавления: \")\n",
        "            add_pokemon(team, name)\n",
        "        elif action == 'remove':\n",
        "            name = input(\"Введите имя покемона для удаления: \")\n",
        "            remove_pokemon(team, name)\n",
        "        elif action == 'view':\n",
        "            view_team(team)\n",
        "        elif action == 'find':\n",
        "            name = input(\"Введите имя покемона для поиска: \")\n",
        "            find_pokemon(team, name)\n",
        "        elif action == 'battle':\n",
        "            name1 = input(\"Введите имя первого покемона для боя: \")\n",
        "            name2 = input(\"Введите имя второго покемона для боя: \")\n",
        "            if name1 in team and name2 in team:\n",
        "                battle(team[name1], team[name2])\n",
        "            else:\n",
        "                print(\"Один или оба покемона не найдены в команде.\")\n",
        "        elif action == 'exit':\n",
        "            break\n",
        "        else:\n",
        "            print(\"Некорректное действие, попробуйте снова.\")\n",
        "\n",
        "\n",
        "if __name__ == '__main__':\n",
        "    main()"
      ],
      "metadata": {
        "id": "NnGYp1MTqi5k",
        "colab": {
          "base_uri": "https://localhost:8080/"
        },
        "outputId": "5f9c156a-02de-45be-9a0c-0539abb6d81f"
      },
      "execution_count": null,
      "outputs": [
        {
          "name": "stdout",
          "output_type": "stream",
          "text": [
            "Выберите действие: добавление (add), удаление (remove), просмотр (view), поиск (find), бой (battle), выход (exit): add\n",
            "Введите имя покемона для добавления: Ivysaur\n",
            "Покемон Ivysaur добавлен в команду.\n",
            "Выберите действие: добавление (add), удаление (remove), просмотр (view), поиск (find), бой (battle), выход (exit): add\n",
            "Введите имя покемона для добавления: Bulbasaur\n",
            "Покемон Bulbasaur добавлен в команду.\n",
            "Выберите действие: добавление (add), удаление (remove), просмотр (view), поиск (find), бой (battle), выход (exit): view\n",
            "Имя: ivysaur, Рост: 10, Вес: 130, Базовый опыт: 142\n",
            "Имя: bulbasaur, Рост: 7, Вес: 69, Базовый опыт: 64\n",
            "Выберите действие: добавление (add), удаление (remove), просмотр (view), поиск (find), бой (battle), выход (exit): battle\n",
            "Введите имя первого покемона для боя: Ivysaur\n",
            "Введите имя второго покемона для боя: Bulbasaur\n",
            "Бой между ivysaur и bulbasaur начинается!\n",
            "ivysaur HP: 132, bulbasaur HP: 54\n",
            "ivysaur HP: 122, bulbasaur HP: 44\n",
            "ivysaur HP: 112, bulbasaur HP: 34\n",
            "ivysaur HP: 102, bulbasaur HP: 24\n",
            "ivysaur HP: 92, bulbasaur HP: 14\n",
            "ivysaur HP: 82, bulbasaur HP: 4\n",
            "ivysaur HP: 72, bulbasaur HP: 0\n",
            "Победитель: ivysaur\n",
            "Выберите действие: добавление (add), удаление (remove), просмотр (view), поиск (find), бой (battle), выход (exit): exit\n"
          ]
        }
      ]
    }
  ]
}